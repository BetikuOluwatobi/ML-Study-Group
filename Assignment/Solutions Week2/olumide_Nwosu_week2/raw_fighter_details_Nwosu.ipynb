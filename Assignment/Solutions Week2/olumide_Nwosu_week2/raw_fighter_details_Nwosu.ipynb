{
 "cells": [
  {
   "cell_type": "code",
   "execution_count": 5,
   "metadata": {},
   "outputs": [],
   "source": [
    "import pandas as pd"
   ]
  },
  {
   "cell_type": "code",
   "execution_count": 6,
   "metadata": {},
   "outputs": [],
   "source": [
    "dataframe = pd.read_csv(\"raw_fighter_details.csv\")"
   ]
  },
  {
   "cell_type": "code",
   "execution_count": 30,
   "metadata": {},
   "outputs": [
    {
     "name": "stdout",
     "output_type": "stream",
     "text": [
      "Row 1\n",
      "fighter_name      AJ Fonseca\n",
      "Height                 5' 4\"\n",
      "Weight              145 lbs.\n",
      "Reach                    70\"\n",
      "Stance              Orthodox\n",
      "DOB             Nov 12, 1974\n",
      "Name: 0, dtype: object\n",
      "Row 2\n",
      "fighter_name     AJ Matthews\n",
      "Height                5' 11\"\n",
      "Weight              185 lbs.\n",
      "Reach                    70\"\n",
      "Stance              Orthodox\n",
      "DOB             Nov 12, 1974\n",
      "Name: 1, dtype: object\n",
      "Row 3\n",
      "fighter_name        AJ McKee\n",
      "Height                5' 10\"\n",
      "Weight              145 lbs.\n",
      "Reach                    70\"\n",
      "Stance              Orthodox\n",
      "DOB             Nov 12, 1974\n",
      "Name: 2, dtype: object\n",
      "Row 4\n",
      "fighter_name       AJ Siscoe\n",
      "Height                 5' 7\"\n",
      "Weight              135 lbs.\n",
      "Reach                    70\"\n",
      "Stance              Orthodox\n",
      "DOB             Nov 12, 1974\n",
      "Name: 3, dtype: object\n",
      "Row 5\n",
      "fighter_name      Aalon Cruz\n",
      "Height                 6' 0\"\n",
      "Weight              145 lbs.\n",
      "Reach                    70\"\n",
      "Stance              Orthodox\n",
      "DOB             Nov 12, 1974\n",
      "Name: 4, dtype: object\n",
      "Row 3308\n",
      "fighter_name    Zelim Imadaev\n",
      "Height                  6' 0\"\n",
      "Weight               170 lbs.\n",
      "Reach                     76\"\n",
      "Stance               Orthodox\n",
      "DOB              Jan 25, 1995\n",
      "Name: 3308, dtype: object\n",
      "Row 3309\n",
      "fighter_name    Zhang Lipeng\n",
      "Height                5' 11\"\n",
      "Weight              155 lbs.\n",
      "Reach                    71\"\n",
      "Stance              Southpaw\n",
      "DOB             Mar 10, 1990\n",
      "Name: 3309, dtype: object\n",
      "Row 3310\n",
      "fighter_name    Zoila Frausto\n",
      "Height                  5' 4\"\n",
      "Weight               135 lbs.\n",
      "Reach                     77\"\n",
      "Stance               Orthodox\n",
      "DOB              Aug 05, 1981\n",
      "Name: 3310, dtype: object\n",
      "Row 3311\n",
      "fighter_name      Zu Anyanwu\n",
      "Height                 6' 1\"\n",
      "Weight              251 lbs.\n",
      "Reach                    77\"\n",
      "Stance              Orthodox\n",
      "DOB             Aug 05, 1981\n",
      "Name: 3311, dtype: object\n",
      "Row 3312\n",
      "fighter_name    Zubaira Tukhugov\n",
      "Height                     5' 8\"\n",
      "Weight                  145 lbs.\n",
      "Reach                        68\"\n",
      "Stance                  Orthodox\n",
      "DOB                 Jan 15, 1991\n",
      "Name: 3312, dtype: object\n"
     ]
    }
   ],
   "source": [
    "# printing first 5 rows\n",
    "for i in range(5):\n",
    "    print(\"Row {}\\n{}\".format(i+1, dataframe.iloc[i]))\n",
    "    \n",
    "# printing last five rows\n",
    "index = dataframe.shape[0]-5\n",
    "for i in range(5):\n",
    "    print(\"Row {}\\n{}\".format(index, dataframe.iloc[index]))\n",
    "    index -=- 1\n"
   ]
  },
  {
   "cell_type": "code",
   "execution_count": 8,
   "metadata": {},
   "outputs": [
    {
     "name": "stdout",
     "output_type": "stream",
     "text": [
      "Index(['fighter_name', 'Height', 'Weight', 'Reach', 'Stance', 'DOB'], dtype='object')\n"
     ]
    }
   ],
   "source": [
    "cols = (dataframe.columns)\n",
    "print(cols)"
   ]
  },
  {
   "cell_type": "code",
   "execution_count": 26,
   "metadata": {},
   "outputs": [
    {
     "name": "stdout",
     "output_type": "stream",
     "text": [
      "(3313, 6)\n"
     ]
    }
   ],
   "source": [
    "print(dataframe.shape)"
   ]
  },
  {
   "cell_type": "code",
   "execution_count": 21,
   "metadata": {},
   "outputs": [
    {
     "data": {
      "text/plain": [
       "fighter_name      AJ Fonseca\n",
       "Height                 5' 4\"\n",
       "Weight              145 lbs.\n",
       "Reach                    70\"\n",
       "Stance              Orthodox\n",
       "DOB             Nov 12, 1974\n",
       "Name: 0, dtype: object"
      ]
     },
     "execution_count": 21,
     "metadata": {},
     "output_type": "execute_result"
    }
   ],
   "source": [
    "dataframe.iloc[3]"
   ]
  },
  {
   "cell_type": "code",
   "execution_count": 11,
   "metadata": {
    "scrolled": true
   },
   "outputs": [
    {
     "data": {
      "text/html": [
       "<div>\n",
       "<style scoped>\n",
       "    .dataframe tbody tr th:only-of-type {\n",
       "        vertical-align: middle;\n",
       "    }\n",
       "\n",
       "    .dataframe tbody tr th {\n",
       "        vertical-align: top;\n",
       "    }\n",
       "\n",
       "    .dataframe thead th {\n",
       "        text-align: right;\n",
       "    }\n",
       "</style>\n",
       "<table border=\"1\" class=\"dataframe\">\n",
       "  <thead>\n",
       "    <tr style=\"text-align: right;\">\n",
       "      <th></th>\n",
       "      <th>fighter_name</th>\n",
       "      <th>Height</th>\n",
       "      <th>Weight</th>\n",
       "      <th>Reach</th>\n",
       "      <th>Stance</th>\n",
       "      <th>DOB</th>\n",
       "    </tr>\n",
       "  </thead>\n",
       "  <tbody>\n",
       "    <tr>\n",
       "      <th>count</th>\n",
       "      <td>3313</td>\n",
       "      <td>3050</td>\n",
       "      <td>3238</td>\n",
       "      <td>1569</td>\n",
       "      <td>2439</td>\n",
       "      <td>2573</td>\n",
       "    </tr>\n",
       "    <tr>\n",
       "      <th>unique</th>\n",
       "      <td>3313</td>\n",
       "      <td>27</td>\n",
       "      <td>108</td>\n",
       "      <td>25</td>\n",
       "      <td>5</td>\n",
       "      <td>2217</td>\n",
       "    </tr>\n",
       "    <tr>\n",
       "      <th>top</th>\n",
       "      <td>Leo Kuntz</td>\n",
       "      <td>6' 0\"</td>\n",
       "      <td>170 lbs.</td>\n",
       "      <td>72\"</td>\n",
       "      <td>Orthodox</td>\n",
       "      <td>Aug 08, 1988</td>\n",
       "    </tr>\n",
       "    <tr>\n",
       "      <th>freq</th>\n",
       "      <td>1</td>\n",
       "      <td>389</td>\n",
       "      <td>522</td>\n",
       "      <td>159</td>\n",
       "      <td>1913</td>\n",
       "      <td>4</td>\n",
       "    </tr>\n",
       "  </tbody>\n",
       "</table>\n",
       "</div>"
      ],
      "text/plain": [
       "       fighter_name Height    Weight Reach    Stance           DOB\n",
       "count          3313   3050      3238  1569      2439          2573\n",
       "unique         3313     27       108    25         5          2217\n",
       "top       Leo Kuntz  6' 0\"  170 lbs.   72\"  Orthodox  Aug 08, 1988\n",
       "freq              1    389       522   159      1913             4"
      ]
     },
     "execution_count": 11,
     "metadata": {},
     "output_type": "execute_result"
    }
   ],
   "source": [
    "dataframe.describe()"
   ]
  },
  {
   "cell_type": "code",
   "execution_count": 31,
   "metadata": {},
   "outputs": [],
   "source": [
    "dataframe = dataframe.fillna(axis=0, method='bfill')"
   ]
  },
  {
   "cell_type": "code",
   "execution_count": 14,
   "metadata": {},
   "outputs": [
    {
     "data": {
      "text/html": [
       "<div>\n",
       "<style scoped>\n",
       "    .dataframe tbody tr th:only-of-type {\n",
       "        vertical-align: middle;\n",
       "    }\n",
       "\n",
       "    .dataframe tbody tr th {\n",
       "        vertical-align: top;\n",
       "    }\n",
       "\n",
       "    .dataframe thead th {\n",
       "        text-align: right;\n",
       "    }\n",
       "</style>\n",
       "<table border=\"1\" class=\"dataframe\">\n",
       "  <thead>\n",
       "    <tr style=\"text-align: right;\">\n",
       "      <th></th>\n",
       "    </tr>\n",
       "  </thead>\n",
       "  <tbody>\n",
       "  </tbody>\n",
       "</table>\n",
       "</div>"
      ],
      "text/plain": [
       "Empty DataFrame\n",
       "Columns: []\n",
       "Index: []"
      ]
     },
     "execution_count": 14,
     "metadata": {},
     "output_type": "execute_result"
    }
   ],
   "source": [
    "dataframe[cols].corr()\n",
    "# No correlation"
   ]
  },
  {
   "cell_type": "code",
   "execution_count": 15,
   "metadata": {},
   "outputs": [],
   "source": [
    "csvFile = dataframe.to_csv(\"processed_data_week2.csv\")"
   ]
  },
  {
   "cell_type": "code",
   "execution_count": null,
   "metadata": {},
   "outputs": [],
   "source": []
  }
 ],
 "metadata": {
  "kernelspec": {
   "display_name": "Python 3",
   "language": "python",
   "name": "python3"
  },
  "language_info": {
   "codemirror_mode": {
    "name": "ipython",
    "version": 3
   },
   "file_extension": ".py",
   "mimetype": "text/x-python",
   "name": "python",
   "nbconvert_exporter": "python",
   "pygments_lexer": "ipython3",
   "version": "3.7.0"
  }
 },
 "nbformat": 4,
 "nbformat_minor": 2
}
