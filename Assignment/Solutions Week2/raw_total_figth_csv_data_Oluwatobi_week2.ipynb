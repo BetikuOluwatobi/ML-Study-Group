{
 "cells": [
  {
   "cell_type": "code",
   "execution_count": null,
   "metadata": {},
   "outputs": [],
   "source": [
    "#importing pandas library!\n",
    "import pandas as pd \n",
    "#importing numpy library!\n",
    "import numpy as np\n",
    "#importing stats library!\n",
    "from scipy import stats\n",
    "\n",
    "#opening the dataset.....\n",
    "fh = open(\"raw_total_fight_data.csv\")\n",
    "df = pd.read_csv(fh)\n",
    "\n",
    "# Saving the new DataFrame in a new csv file called processed_data_week2.ipynb\n",
    "path = \"C:\\Users\\Betiku Oluwatobi\\Desktop\\Python Course\\raw_total_fight_processed_data_week2\"\n",
    "df.to_csv(path)\n",
    "\n",
    "#Printing the first and last 5 rows of the dataset.....\n",
    "df.head(5)\n",
    "df.tail(5)\n",
    "\n",
    "#printing the columns of the dataset.....\n",
    "for column in df.columns.tolist():\n",
    "    print(column)\n",
    "\n",
    "#Printing the shape of the dataset......\n",
    "for val in df[0].values.tolist():\n",
    "    if val == 'Winner':\n",
    "        continue\n",
    "    print(val)\n",
    "#Get the 4th row and and save it in a variable called index_4\n",
    "index_4 = np.array(df)[3]\n",
    "pd.DataFrame(index_4)\n",
    "\n",
    "#Estimating the summary statistics of the data and check if there's outlier.\n",
    "df.describe(include = \"all\")\n",
    "#checking if there's outlier.....\n",
    "z = np.abs(stats.zscore(df))\n",
    "threshold = 3\n",
    "print(np.where(z > 3))\n",
    "#Drop or fill missing values with the suitable value, you're to decide on which one to do based on your own intuition.....\n",
    "df.replace(\"?\",np.nan, inplace = True)\n",
    "missing_data = df.isnull()\n",
    "if missing_data is True:\n",
    "    missing_data.head(20)\n",
    "#Checking for correlation of the columns......\n",
    "pearson_coef , p_value = stats.pearsonr(df[2] , df[6])\n",
    "print(\"The Pearson Correlation Coefficient is\", pearson_coef, \" with a P-value of P =\", p_value)  "
   ]
  },
  {
   "cell_type": "code",
   "execution_count": null,
   "metadata": {},
   "outputs": [],
   "source": []
  },
  {
   "cell_type": "code",
   "execution_count": null,
   "metadata": {},
   "outputs": [],
   "source": []
  }
 ],
 "metadata": {
  "kernelspec": {
   "display_name": "Python 2",
   "language": "python",
   "name": "python2"
  },
  "language_info": {
   "codemirror_mode": {
    "name": "ipython",
    "version": 2
   },
   "file_extension": ".py",
   "mimetype": "text/x-python",
   "name": "python",
   "nbconvert_exporter": "python",
   "pygments_lexer": "ipython2",
   "version": "2.7.16"
  }
 },
 "nbformat": 4,
 "nbformat_minor": 2
}
