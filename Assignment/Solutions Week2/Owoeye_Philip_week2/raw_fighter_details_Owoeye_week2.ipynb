{
  "nbformat": 4,
  "nbformat_minor": 0,
  "metadata": {
    "colab": {
      "name": "raw_fighter_details_Owoeye_week2",
      "provenance": [],
      "collapsed_sections": []
    },
    "kernelspec": {
      "name": "python3",
      "display_name": "Python 3"
    }
  },
  "cells": [
    {
      "cell_type": "code",
      "metadata": {
        "id": "TXimybIg6Jf-",
        "colab_type": "code",
        "outputId": "673e90a1-6ea3-48ef-fad5-6361a9ecca16",
        "colab": {
          "base_uri": "https://localhost:8080/",
          "height": 206
        }
      },
      "source": [
        "import pandas as pd\n",
        "df = pd.read_csv(r'https://raw.githubusercontent.com/nerdyphil/ML-Study-Group/master/Assignment/raw_fighter_details.csv')\n",
        "#df = pd.read_csv(r'https://raw.githubusercontent.com/nerdyphil/ML-Study-Group/master/Assignment/raw_total_fight_data.csv', sep=';', engine='python')\n",
        "top = df.head(5)\n",
        "bottom = df.tail(5)\n",
        "top"
      ],
      "execution_count": 414,
      "outputs": [
        {
          "output_type": "execute_result",
          "data": {
            "text/html": [
              "<div>\n",
              "<style scoped>\n",
              "    .dataframe tbody tr th:only-of-type {\n",
              "        vertical-align: middle;\n",
              "    }\n",
              "\n",
              "    .dataframe tbody tr th {\n",
              "        vertical-align: top;\n",
              "    }\n",
              "\n",
              "    .dataframe thead th {\n",
              "        text-align: right;\n",
              "    }\n",
              "</style>\n",
              "<table border=\"1\" class=\"dataframe\">\n",
              "  <thead>\n",
              "    <tr style=\"text-align: right;\">\n",
              "      <th></th>\n",
              "      <th>fighter_name</th>\n",
              "      <th>Height</th>\n",
              "      <th>Weight</th>\n",
              "      <th>Reach</th>\n",
              "      <th>Stance</th>\n",
              "      <th>DOB</th>\n",
              "    </tr>\n",
              "  </thead>\n",
              "  <tbody>\n",
              "    <tr>\n",
              "      <th>0</th>\n",
              "      <td>AJ Fonseca</td>\n",
              "      <td>5' 4\"</td>\n",
              "      <td>145 lbs.</td>\n",
              "      <td>NaN</td>\n",
              "      <td>NaN</td>\n",
              "      <td>NaN</td>\n",
              "    </tr>\n",
              "    <tr>\n",
              "      <th>1</th>\n",
              "      <td>AJ Matthews</td>\n",
              "      <td>5' 11\"</td>\n",
              "      <td>185 lbs.</td>\n",
              "      <td>NaN</td>\n",
              "      <td>NaN</td>\n",
              "      <td>NaN</td>\n",
              "    </tr>\n",
              "    <tr>\n",
              "      <th>2</th>\n",
              "      <td>AJ McKee</td>\n",
              "      <td>5' 10\"</td>\n",
              "      <td>145 lbs.</td>\n",
              "      <td>NaN</td>\n",
              "      <td>NaN</td>\n",
              "      <td>NaN</td>\n",
              "    </tr>\n",
              "    <tr>\n",
              "      <th>3</th>\n",
              "      <td>AJ Siscoe</td>\n",
              "      <td>5' 7\"</td>\n",
              "      <td>135 lbs.</td>\n",
              "      <td>NaN</td>\n",
              "      <td>NaN</td>\n",
              "      <td>NaN</td>\n",
              "    </tr>\n",
              "    <tr>\n",
              "      <th>4</th>\n",
              "      <td>Aalon Cruz</td>\n",
              "      <td>6' 0\"</td>\n",
              "      <td>145 lbs.</td>\n",
              "      <td>NaN</td>\n",
              "      <td>NaN</td>\n",
              "      <td>NaN</td>\n",
              "    </tr>\n",
              "  </tbody>\n",
              "</table>\n",
              "</div>"
            ],
            "text/plain": [
              "  fighter_name  Height    Weight Reach Stance  DOB\n",
              "0   AJ Fonseca   5' 4\"  145 lbs.   NaN    NaN  NaN\n",
              "1  AJ Matthews  5' 11\"  185 lbs.   NaN    NaN  NaN\n",
              "2     AJ McKee  5' 10\"  145 lbs.   NaN    NaN  NaN\n",
              "3    AJ Siscoe   5' 7\"  135 lbs.   NaN    NaN  NaN\n",
              "4   Aalon Cruz   6' 0\"  145 lbs.   NaN    NaN  NaN"
            ]
          },
          "metadata": {
            "tags": []
          },
          "execution_count": 414
        }
      ]
    },
    {
      "cell_type": "code",
      "metadata": {
        "id": "UUyXEZg5hE4T",
        "colab_type": "code",
        "colab": {
          "base_uri": "https://localhost:8080/",
          "height": 206
        },
        "outputId": "35359c09-b06e-4c02-dff2-2e9784694ab3"
      },
      "source": [
        "bottom"
      ],
      "execution_count": 415,
      "outputs": [
        {
          "output_type": "execute_result",
          "data": {
            "text/html": [
              "<div>\n",
              "<style scoped>\n",
              "    .dataframe tbody tr th:only-of-type {\n",
              "        vertical-align: middle;\n",
              "    }\n",
              "\n",
              "    .dataframe tbody tr th {\n",
              "        vertical-align: top;\n",
              "    }\n",
              "\n",
              "    .dataframe thead th {\n",
              "        text-align: right;\n",
              "    }\n",
              "</style>\n",
              "<table border=\"1\" class=\"dataframe\">\n",
              "  <thead>\n",
              "    <tr style=\"text-align: right;\">\n",
              "      <th></th>\n",
              "      <th>fighter_name</th>\n",
              "      <th>Height</th>\n",
              "      <th>Weight</th>\n",
              "      <th>Reach</th>\n",
              "      <th>Stance</th>\n",
              "      <th>DOB</th>\n",
              "    </tr>\n",
              "  </thead>\n",
              "  <tbody>\n",
              "    <tr>\n",
              "      <th>3308</th>\n",
              "      <td>Zelim Imadaev</td>\n",
              "      <td>6' 0\"</td>\n",
              "      <td>170 lbs.</td>\n",
              "      <td>76\"</td>\n",
              "      <td>Orthodox</td>\n",
              "      <td>Jan 25, 1995</td>\n",
              "    </tr>\n",
              "    <tr>\n",
              "      <th>3309</th>\n",
              "      <td>Zhang Lipeng</td>\n",
              "      <td>5' 11\"</td>\n",
              "      <td>155 lbs.</td>\n",
              "      <td>71\"</td>\n",
              "      <td>Southpaw</td>\n",
              "      <td>Mar 10, 1990</td>\n",
              "    </tr>\n",
              "    <tr>\n",
              "      <th>3310</th>\n",
              "      <td>Zoila Frausto</td>\n",
              "      <td>5' 4\"</td>\n",
              "      <td>135 lbs.</td>\n",
              "      <td>NaN</td>\n",
              "      <td>Orthodox</td>\n",
              "      <td>NaN</td>\n",
              "    </tr>\n",
              "    <tr>\n",
              "      <th>3311</th>\n",
              "      <td>Zu Anyanwu</td>\n",
              "      <td>6' 1\"</td>\n",
              "      <td>251 lbs.</td>\n",
              "      <td>77\"</td>\n",
              "      <td>Orthodox</td>\n",
              "      <td>Aug 05, 1981</td>\n",
              "    </tr>\n",
              "    <tr>\n",
              "      <th>3312</th>\n",
              "      <td>Zubaira Tukhugov</td>\n",
              "      <td>5' 8\"</td>\n",
              "      <td>145 lbs.</td>\n",
              "      <td>68\"</td>\n",
              "      <td>Orthodox</td>\n",
              "      <td>Jan 15, 1991</td>\n",
              "    </tr>\n",
              "  </tbody>\n",
              "</table>\n",
              "</div>"
            ],
            "text/plain": [
              "          fighter_name  Height    Weight Reach    Stance           DOB\n",
              "3308     Zelim Imadaev   6' 0\"  170 lbs.   76\"  Orthodox  Jan 25, 1995\n",
              "3309      Zhang Lipeng  5' 11\"  155 lbs.   71\"  Southpaw  Mar 10, 1990\n",
              "3310     Zoila Frausto   5' 4\"  135 lbs.   NaN  Orthodox           NaN\n",
              "3311        Zu Anyanwu   6' 1\"  251 lbs.   77\"  Orthodox  Aug 05, 1981\n",
              "3312  Zubaira Tukhugov   5' 8\"  145 lbs.   68\"  Orthodox  Jan 15, 1991"
            ]
          },
          "metadata": {
            "tags": []
          },
          "execution_count": 415
        }
      ]
    },
    {
      "cell_type": "code",
      "metadata": {
        "id": "P-6uZjAR_Leq",
        "colab_type": "code",
        "outputId": "5a39c006-a158-40bf-b962-409905aeb24a",
        "colab": {
          "base_uri": "https://localhost:8080/",
          "height": 139
        }
      },
      "source": [
        "print(\"\".join(i+\"\\n\" for i in df.columns.values))"
      ],
      "execution_count": 416,
      "outputs": [
        {
          "output_type": "stream",
          "text": [
            "fighter_name\n",
            "Height\n",
            "Weight\n",
            "Reach\n",
            "Stance\n",
            "DOB\n",
            "\n"
          ],
          "name": "stdout"
        }
      ]
    },
    {
      "cell_type": "code",
      "metadata": {
        "id": "rHFGIVRa_ZM8",
        "colab_type": "code",
        "outputId": "e3d5bf58-73a7-4e7c-fa63-23fcbcad22a7",
        "colab": {
          "base_uri": "https://localhost:8080/",
          "height": 34
        }
      },
      "source": [
        "print(df.shape)"
      ],
      "execution_count": 417,
      "outputs": [
        {
          "output_type": "stream",
          "text": [
            "(3313, 6)\n"
          ],
          "name": "stdout"
        }
      ]
    },
    {
      "cell_type": "code",
      "metadata": {
        "id": "hwev03So_isD",
        "colab_type": "code",
        "outputId": "007054a9-6774-4efa-ad40-d85d37d76949",
        "colab": {
          "base_uri": "https://localhost:8080/",
          "height": 139
        }
      },
      "source": [
        "index_4 = df.loc[3,:]\n",
        "index_4"
      ],
      "execution_count": 418,
      "outputs": [
        {
          "output_type": "execute_result",
          "data": {
            "text/plain": [
              "fighter_name    AJ Siscoe\n",
              "Height              5' 7\"\n",
              "Weight           135 lbs.\n",
              "Reach                 NaN\n",
              "Stance                NaN\n",
              "DOB                   NaN\n",
              "Name: 3, dtype: object"
            ]
          },
          "metadata": {
            "tags": []
          },
          "execution_count": 418
        }
      ]
    },
    {
      "cell_type": "code",
      "metadata": {
        "id": "vwF1-hghAIZs",
        "colab_type": "code",
        "outputId": "ac408440-8b5d-4b3a-8ce3-9b174ec8e3c1",
        "colab": {
          "base_uri": "https://localhost:8080/",
          "height": 175
        }
      },
      "source": [
        "df.describe()"
      ],
      "execution_count": 419,
      "outputs": [
        {
          "output_type": "execute_result",
          "data": {
            "text/html": [
              "<div>\n",
              "<style scoped>\n",
              "    .dataframe tbody tr th:only-of-type {\n",
              "        vertical-align: middle;\n",
              "    }\n",
              "\n",
              "    .dataframe tbody tr th {\n",
              "        vertical-align: top;\n",
              "    }\n",
              "\n",
              "    .dataframe thead th {\n",
              "        text-align: right;\n",
              "    }\n",
              "</style>\n",
              "<table border=\"1\" class=\"dataframe\">\n",
              "  <thead>\n",
              "    <tr style=\"text-align: right;\">\n",
              "      <th></th>\n",
              "      <th>fighter_name</th>\n",
              "      <th>Height</th>\n",
              "      <th>Weight</th>\n",
              "      <th>Reach</th>\n",
              "      <th>Stance</th>\n",
              "      <th>DOB</th>\n",
              "    </tr>\n",
              "  </thead>\n",
              "  <tbody>\n",
              "    <tr>\n",
              "      <th>count</th>\n",
              "      <td>3313</td>\n",
              "      <td>3050</td>\n",
              "      <td>3238</td>\n",
              "      <td>1569</td>\n",
              "      <td>2439</td>\n",
              "      <td>2573</td>\n",
              "    </tr>\n",
              "    <tr>\n",
              "      <th>unique</th>\n",
              "      <td>3313</td>\n",
              "      <td>27</td>\n",
              "      <td>108</td>\n",
              "      <td>25</td>\n",
              "      <td>5</td>\n",
              "      <td>2217</td>\n",
              "    </tr>\n",
              "    <tr>\n",
              "      <th>top</th>\n",
              "      <td>Yokthai Sithoar</td>\n",
              "      <td>6' 0\"</td>\n",
              "      <td>170 lbs.</td>\n",
              "      <td>72\"</td>\n",
              "      <td>Orthodox</td>\n",
              "      <td>Aug 08, 1988</td>\n",
              "    </tr>\n",
              "    <tr>\n",
              "      <th>freq</th>\n",
              "      <td>1</td>\n",
              "      <td>389</td>\n",
              "      <td>522</td>\n",
              "      <td>159</td>\n",
              "      <td>1913</td>\n",
              "      <td>4</td>\n",
              "    </tr>\n",
              "  </tbody>\n",
              "</table>\n",
              "</div>"
            ],
            "text/plain": [
              "           fighter_name Height    Weight Reach    Stance           DOB\n",
              "count              3313   3050      3238  1569      2439          2573\n",
              "unique             3313     27       108    25         5          2217\n",
              "top     Yokthai Sithoar  6' 0\"  170 lbs.   72\"  Orthodox  Aug 08, 1988\n",
              "freq                  1    389       522   159      1913             4"
            ]
          },
          "metadata": {
            "tags": []
          },
          "execution_count": 419
        }
      ]
    },
    {
      "cell_type": "code",
      "metadata": {
        "id": "_w8BmsIXDFlO",
        "colab_type": "code",
        "colab": {
          "base_uri": "https://localhost:8080/",
          "height": 424
        },
        "outputId": "2331fa41-a312-4789-fe3b-c0608c947466"
      },
      "source": [
        "df.fillna(0)"
      ],
      "execution_count": 420,
      "outputs": [
        {
          "output_type": "execute_result",
          "data": {
            "text/html": [
              "<div>\n",
              "<style scoped>\n",
              "    .dataframe tbody tr th:only-of-type {\n",
              "        vertical-align: middle;\n",
              "    }\n",
              "\n",
              "    .dataframe tbody tr th {\n",
              "        vertical-align: top;\n",
              "    }\n",
              "\n",
              "    .dataframe thead th {\n",
              "        text-align: right;\n",
              "    }\n",
              "</style>\n",
              "<table border=\"1\" class=\"dataframe\">\n",
              "  <thead>\n",
              "    <tr style=\"text-align: right;\">\n",
              "      <th></th>\n",
              "      <th>fighter_name</th>\n",
              "      <th>Height</th>\n",
              "      <th>Weight</th>\n",
              "      <th>Reach</th>\n",
              "      <th>Stance</th>\n",
              "      <th>DOB</th>\n",
              "    </tr>\n",
              "  </thead>\n",
              "  <tbody>\n",
              "    <tr>\n",
              "      <th>0</th>\n",
              "      <td>AJ Fonseca</td>\n",
              "      <td>5' 4\"</td>\n",
              "      <td>145 lbs.</td>\n",
              "      <td>0</td>\n",
              "      <td>0</td>\n",
              "      <td>0</td>\n",
              "    </tr>\n",
              "    <tr>\n",
              "      <th>1</th>\n",
              "      <td>AJ Matthews</td>\n",
              "      <td>5' 11\"</td>\n",
              "      <td>185 lbs.</td>\n",
              "      <td>0</td>\n",
              "      <td>0</td>\n",
              "      <td>0</td>\n",
              "    </tr>\n",
              "    <tr>\n",
              "      <th>2</th>\n",
              "      <td>AJ McKee</td>\n",
              "      <td>5' 10\"</td>\n",
              "      <td>145 lbs.</td>\n",
              "      <td>0</td>\n",
              "      <td>0</td>\n",
              "      <td>0</td>\n",
              "    </tr>\n",
              "    <tr>\n",
              "      <th>3</th>\n",
              "      <td>AJ Siscoe</td>\n",
              "      <td>5' 7\"</td>\n",
              "      <td>135 lbs.</td>\n",
              "      <td>0</td>\n",
              "      <td>0</td>\n",
              "      <td>0</td>\n",
              "    </tr>\n",
              "    <tr>\n",
              "      <th>4</th>\n",
              "      <td>Aalon Cruz</td>\n",
              "      <td>6' 0\"</td>\n",
              "      <td>145 lbs.</td>\n",
              "      <td>0</td>\n",
              "      <td>0</td>\n",
              "      <td>0</td>\n",
              "    </tr>\n",
              "    <tr>\n",
              "      <th>...</th>\n",
              "      <td>...</td>\n",
              "      <td>...</td>\n",
              "      <td>...</td>\n",
              "      <td>...</td>\n",
              "      <td>...</td>\n",
              "      <td>...</td>\n",
              "    </tr>\n",
              "    <tr>\n",
              "      <th>3308</th>\n",
              "      <td>Zelim Imadaev</td>\n",
              "      <td>6' 0\"</td>\n",
              "      <td>170 lbs.</td>\n",
              "      <td>76\"</td>\n",
              "      <td>Orthodox</td>\n",
              "      <td>Jan 25, 1995</td>\n",
              "    </tr>\n",
              "    <tr>\n",
              "      <th>3309</th>\n",
              "      <td>Zhang Lipeng</td>\n",
              "      <td>5' 11\"</td>\n",
              "      <td>155 lbs.</td>\n",
              "      <td>71\"</td>\n",
              "      <td>Southpaw</td>\n",
              "      <td>Mar 10, 1990</td>\n",
              "    </tr>\n",
              "    <tr>\n",
              "      <th>3310</th>\n",
              "      <td>Zoila Frausto</td>\n",
              "      <td>5' 4\"</td>\n",
              "      <td>135 lbs.</td>\n",
              "      <td>0</td>\n",
              "      <td>Orthodox</td>\n",
              "      <td>0</td>\n",
              "    </tr>\n",
              "    <tr>\n",
              "      <th>3311</th>\n",
              "      <td>Zu Anyanwu</td>\n",
              "      <td>6' 1\"</td>\n",
              "      <td>251 lbs.</td>\n",
              "      <td>77\"</td>\n",
              "      <td>Orthodox</td>\n",
              "      <td>Aug 05, 1981</td>\n",
              "    </tr>\n",
              "    <tr>\n",
              "      <th>3312</th>\n",
              "      <td>Zubaira Tukhugov</td>\n",
              "      <td>5' 8\"</td>\n",
              "      <td>145 lbs.</td>\n",
              "      <td>68\"</td>\n",
              "      <td>Orthodox</td>\n",
              "      <td>Jan 15, 1991</td>\n",
              "    </tr>\n",
              "  </tbody>\n",
              "</table>\n",
              "<p>3313 rows × 6 columns</p>\n",
              "</div>"
            ],
            "text/plain": [
              "          fighter_name  Height    Weight Reach    Stance           DOB\n",
              "0           AJ Fonseca   5' 4\"  145 lbs.     0         0             0\n",
              "1          AJ Matthews  5' 11\"  185 lbs.     0         0             0\n",
              "2             AJ McKee  5' 10\"  145 lbs.     0         0             0\n",
              "3            AJ Siscoe   5' 7\"  135 lbs.     0         0             0\n",
              "4           Aalon Cruz   6' 0\"  145 lbs.     0         0             0\n",
              "...                ...     ...       ...   ...       ...           ...\n",
              "3308     Zelim Imadaev   6' 0\"  170 lbs.   76\"  Orthodox  Jan 25, 1995\n",
              "3309      Zhang Lipeng  5' 11\"  155 lbs.   71\"  Southpaw  Mar 10, 1990\n",
              "3310     Zoila Frausto   5' 4\"  135 lbs.     0  Orthodox             0\n",
              "3311        Zu Anyanwu   6' 1\"  251 lbs.   77\"  Orthodox  Aug 05, 1981\n",
              "3312  Zubaira Tukhugov   5' 8\"  145 lbs.   68\"  Orthodox  Jan 15, 1991\n",
              "\n",
              "[3313 rows x 6 columns]"
            ]
          },
          "metadata": {
            "tags": []
          },
          "execution_count": 420
        }
      ]
    },
    {
      "cell_type": "code",
      "metadata": {
        "id": "ZpJITy73dIZs",
        "colab_type": "code",
        "colab": {
          "base_uri": "https://localhost:8080/",
          "height": 32
        },
        "outputId": "b01ce3d0-d492-4c3e-c48f-f5133b9b33a7"
      },
      "source": [
        "df.corr(method ='pearson') "
      ],
      "execution_count": 421,
      "outputs": [
        {
          "output_type": "execute_result",
          "data": {
            "text/html": [
              "<div>\n",
              "<style scoped>\n",
              "    .dataframe tbody tr th:only-of-type {\n",
              "        vertical-align: middle;\n",
              "    }\n",
              "\n",
              "    .dataframe tbody tr th {\n",
              "        vertical-align: top;\n",
              "    }\n",
              "\n",
              "    .dataframe thead th {\n",
              "        text-align: right;\n",
              "    }\n",
              "</style>\n",
              "<table border=\"1\" class=\"dataframe\">\n",
              "  <thead>\n",
              "    <tr style=\"text-align: right;\">\n",
              "      <th></th>\n",
              "    </tr>\n",
              "  </thead>\n",
              "  <tbody>\n",
              "  </tbody>\n",
              "</table>\n",
              "</div>"
            ],
            "text/plain": [
              "Empty DataFrame\n",
              "Columns: []\n",
              "Index: []"
            ]
          },
          "metadata": {
            "tags": []
          },
          "execution_count": 421
        }
      ]
    },
    {
      "cell_type": "code",
      "metadata": {
        "id": "7chSr-SybGkJ",
        "colab_type": "code",
        "colab": {}
      },
      "source": [
        "df.to_csv(r'../processed_data_week2.ipynb')"
      ],
      "execution_count": 0,
      "outputs": []
    },
    {
      "cell_type": "code",
      "metadata": {
        "id": "2kkNGcelfNUH",
        "colab_type": "code",
        "colab": {}
      },
      "source": [
        ""
      ],
      "execution_count": 0,
      "outputs": []
    }
  ]
}