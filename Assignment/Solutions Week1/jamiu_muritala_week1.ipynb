{
 "cells": [
  {
   "cell_type": "code",
   "execution_count": 1,
   "metadata": {},
   "outputs": [],
   "source": [
    "# returns the mean ofa given set of numbers \n",
    "def mean(list):\n",
    "    return sum(list) // len(list)"
   ]
  },
  {
   "cell_type": "code",
   "execution_count": 2,
   "metadata": {},
   "outputs": [
    {
     "data": {
      "text/plain": [
       "3"
      ]
     },
     "execution_count": 2,
     "metadata": {},
     "output_type": "execute_result"
    }
   ],
   "source": [
    "mean([1,2,3,4,5])"
   ]
  },
  {
   "cell_type": "code",
   "execution_count": 3,
   "metadata": {},
   "outputs": [],
   "source": [
    "# returns the median of a given set of number\n",
    "def median(list):\n",
    "    sort = sorted(list)\n",
    "    n = len(sort)\n",
    "    if n % 2 != 0:\n",
    "        return sort[(n//2)]\n",
    "    else:\n",
    "        return (sort[n//2-1]+ sort[n//2])/ 2"
   ]
  },
  {
   "cell_type": "code",
   "execution_count": 4,
   "metadata": {},
   "outputs": [
    {
     "data": {
      "text/plain": [
       "11.0"
      ]
     },
     "execution_count": 4,
     "metadata": {},
     "output_type": "execute_result"
    }
   ],
   "source": [
    "median([23,6,9,13])"
   ]
  },
  {
   "cell_type": "code",
   "execution_count": 5,
   "metadata": {},
   "outputs": [],
   "source": [
    "# calculates the percentile of a given set of a number at a nth-percentile\n",
    "def percentile(list, n): \n",
    "    lstLength = len(list)\n",
    "    percentile = (n/100) * lstLength\n",
    "    return percentile"
   ]
  },
  {
   "cell_type": "code",
   "execution_count": 6,
   "metadata": {},
   "outputs": [
    {
     "data": {
      "text/plain": [
       "1.0"
      ]
     },
     "execution_count": 6,
     "metadata": {},
     "output_type": "execute_result"
    }
   ],
   "source": [
    "percentile([1,2,3,4,5],20)"
   ]
  },
  {
   "cell_type": "code",
   "execution_count": 7,
   "metadata": {},
   "outputs": [],
   "source": [
    "def standardDeviation(list):\n",
    "    n = len(list)\n",
    "    mean_of_list = mean(list)\n",
    "    y = 0\n",
    "    for i in list:\n",
    "        y += (i - mean_of_list) ** 2\n",
    "    variance = y/n\n",
    "    standard_deviation = variance ** 0.5\n",
    "    \n",
    "    return standard_deviation"
   ]
  },
  {
   "cell_type": "code",
   "execution_count": 8,
   "metadata": {},
   "outputs": [
    {
     "data": {
      "text/plain": [
       "1.4142135623730951"
      ]
     },
     "execution_count": 8,
     "metadata": {},
     "output_type": "execute_result"
    }
   ],
   "source": [
    "standardDeviation([1,2,3,4,5])"
   ]
  },
  {
   "cell_type": "code",
   "execution_count": 9,
   "metadata": {},
   "outputs": [],
   "source": [
    "import random \n",
    "def RPS():    \n",
    "    lives = 3\n",
    "    points = 0\n",
    "    choice = ['rock','paper','scissors']\n",
    "    while lives > 0:\n",
    "        # this collects the user input\n",
    "        player_choice = str(input('Enter your choice: '))\n",
    "        choice_of_player = player_choice.lower()\n",
    "                   \n",
    "        # this generates the computer's choice from the list of choices above\n",
    "        choice_of_computer = random.choice(choice)\n",
    "        \n",
    "        # prints the computer\"s choice\n",
    "        print(\"Computer plays \", choice_of_computer)\n",
    "                   \n",
    "        #compares the user's choice with that of the computer's based on the rules of RPS game\n",
    "        if choice_of_player == choice_of_computer:\n",
    "            print(\"You drew Continue\")\n",
    "            continue\n",
    "        elif (choice_of_player == 'paper' and choice_of_computer == 'rock') or (choice_of_player == 'rock' and choice_of_computer == 'scissors') or (choice_of_player == 'scissors' and choice_of_computer == 'paper') :\n",
    "            print(\"You won this round continue\")\n",
    "            points += 1\n",
    "            continue\n",
    "        elif (choice_of_player == 'scissors' and choice_of_computer == 'rock') or (choice_of_player == 'rock' and choice_of_computer == 'paper') or (choice_of_player == 'paper' and choice_of_computer == 'scissors'):\n",
    "            lives -= 1\n",
    "            print(\"You have \" + str(lives) + \" lives left\")\n",
    "            continue\n",
    "        else:\n",
    "                print(\"invalid entry\\n\\n\")\n",
    "    if lives == 0:\n",
    "        print(\"You lost\\n You had \" + str(points) + \"points\")     "
   ]
  },
  {
   "cell_type": "code",
   "execution_count": null,
   "metadata": {},
   "outputs": [],
   "source": [
    "RPS()"
   ]
  },
  {
   "cell_type": "code",
   "execution_count": null,
   "metadata": {},
   "outputs": [],
   "source": [
    "def mode(list):\n",
    "    "
   ]
  }
 ],
 "metadata": {
  "kernelspec": {
   "display_name": "Python 3",
   "language": "python",
   "name": "python3"
  },
  "language_info": {
   "codemirror_mode": {
    "name": "ipython",
    "version": 3
   },
   "file_extension": ".py",
   "mimetype": "text/x-python",
   "name": "python",
   "nbconvert_exporter": "python",
   "pygments_lexer": "ipython3",
   "version": "3.7.4"
  }
 },
 "nbformat": 4,
 "nbformat_minor": 2
}
