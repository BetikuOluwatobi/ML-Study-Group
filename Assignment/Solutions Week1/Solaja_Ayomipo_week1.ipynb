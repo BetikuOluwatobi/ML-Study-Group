{
 "cells": [
  {
   "cell_type": "code",
   "execution_count": 8,
   "metadata": {},
   "outputs": [
    {
     "name": "stdout",
     "output_type": "stream",
     "text": [
      "This is Rock Paper Sciccors Game\n"
     ]
    },
    {
     "name": "stdin",
     "output_type": "stream",
     "text": [
      "Enter your choice: \n",
      "\n",
      " rock\n"
     ]
    },
    {
     "name": "stdout",
     "output_type": "stream",
     "text": [
      "player chooses rock\n",
      "Computer plays  rock\n",
      "You drew Continue\n"
     ]
    },
    {
     "name": "stdin",
     "output_type": "stream",
     "text": [
      "Enter your choice: \n",
      "\n",
      " paper\n"
     ]
    },
    {
     "name": "stdout",
     "output_type": "stream",
     "text": [
      "player chooses paper\n",
      "Computer plays  paper\n",
      "You drew Continue\n"
     ]
    },
    {
     "name": "stdin",
     "output_type": "stream",
     "text": [
      "Enter your choice: \n",
      "\n",
      " scissors\n"
     ]
    },
    {
     "name": "stdout",
     "output_type": "stream",
     "text": [
      "player chooses scissors\n",
      "Computer plays  scissors\n",
      "You drew Continue\n"
     ]
    },
    {
     "name": "stdin",
     "output_type": "stream",
     "text": [
      "Enter your choice: \n",
      "\n",
      " paper\n"
     ]
    },
    {
     "name": "stdout",
     "output_type": "stream",
     "text": [
      "player chooses paper\n",
      "Computer plays  rock\n",
      "You won this round continue\n"
     ]
    },
    {
     "name": "stdin",
     "output_type": "stream",
     "text": [
      "Enter your choice: \n",
      "\n",
      " rock\n"
     ]
    },
    {
     "name": "stdout",
     "output_type": "stream",
     "text": [
      "player chooses rock\n",
      "Computer plays  scissors\n",
      "You won this round continue\n"
     ]
    },
    {
     "name": "stdin",
     "output_type": "stream",
     "text": [
      "Enter your choice: \n",
      "\n",
      " rock\n"
     ]
    },
    {
     "name": "stdout",
     "output_type": "stream",
     "text": [
      "player chooses rock\n",
      "Computer plays  scissors\n",
      "You won this round continue\n"
     ]
    },
    {
     "name": "stdin",
     "output_type": "stream",
     "text": [
      "Enter your choice: \n",
      "\n",
      " scissors\n"
     ]
    },
    {
     "name": "stdout",
     "output_type": "stream",
     "text": [
      "player chooses scissors\n",
      "Computer plays  paper\n",
      "You won this round continue\n"
     ]
    },
    {
     "name": "stdin",
     "output_type": "stream",
     "text": [
      "Enter your choice: \n",
      "\n",
      " paper\n"
     ]
    },
    {
     "name": "stdout",
     "output_type": "stream",
     "text": [
      "player chooses paper\n",
      "Computer plays  rock\n",
      "You won this round continue\n"
     ]
    },
    {
     "name": "stdin",
     "output_type": "stream",
     "text": [
      "Enter your choice: \n",
      "\n",
      " paper\n"
     ]
    },
    {
     "name": "stdout",
     "output_type": "stream",
     "text": [
      "player chooses paper\n",
      "Computer plays  rock\n",
      "You won this round continue\n"
     ]
    },
    {
     "name": "stdin",
     "output_type": "stream",
     "text": [
      "Enter your choice: \n",
      "\n",
      " paper\n"
     ]
    },
    {
     "name": "stdout",
     "output_type": "stream",
     "text": [
      "player chooses paper\n",
      "Computer plays  rock\n",
      "You won this round continue\n"
     ]
    },
    {
     "name": "stdin",
     "output_type": "stream",
     "text": [
      "Enter your choice: \n",
      "\n",
      " paper\n"
     ]
    },
    {
     "name": "stdout",
     "output_type": "stream",
     "text": [
      "player chooses paper\n",
      "Computer plays  paper\n",
      "You drew Continue\n"
     ]
    },
    {
     "name": "stdin",
     "output_type": "stream",
     "text": [
      "Enter your choice: \n",
      "\n",
      " paper\n"
     ]
    },
    {
     "name": "stdout",
     "output_type": "stream",
     "text": [
      "player chooses paper\n",
      "Computer plays  scissors\n",
      "You have 2 lives left\n"
     ]
    },
    {
     "name": "stdin",
     "output_type": "stream",
     "text": [
      "Enter your choice: \n",
      "\n",
      " rock\n"
     ]
    },
    {
     "name": "stdout",
     "output_type": "stream",
     "text": [
      "player chooses rock\n",
      "Computer plays  rock\n",
      "You drew Continue\n"
     ]
    },
    {
     "name": "stdin",
     "output_type": "stream",
     "text": [
      "Enter your choice: \n",
      "\n",
      " rock\n"
     ]
    },
    {
     "name": "stdout",
     "output_type": "stream",
     "text": [
      "player chooses rock\n",
      "Computer plays  paper\n",
      "You have 1 lives left\n"
     ]
    },
    {
     "name": "stdin",
     "output_type": "stream",
     "text": [
      "Enter your choice: \n",
      "\n",
      " rock\n"
     ]
    },
    {
     "name": "stdout",
     "output_type": "stream",
     "text": [
      "player chooses rock\n",
      "Computer plays  rock\n",
      "You drew Continue\n"
     ]
    },
    {
     "name": "stdin",
     "output_type": "stream",
     "text": [
      "Enter your choice: \n",
      "\n",
      " rock\n"
     ]
    },
    {
     "name": "stdout",
     "output_type": "stream",
     "text": [
      "player chooses rock\n",
      "Computer plays  paper\n",
      "You have 0 lives left\n",
      "you lost\n",
      " you had 7points\n"
     ]
    }
   ],
   "source": [
    "import random\n",
    "\n",
    "print(\"This is Rock Paper Sciccors Game\")\n",
    "\n",
    "guess = ['paper', 'rock', 'scissors']#list of options for the computer\n",
    "points = 0\n",
    "lives = 3\n",
    "\n",
    "while lives > 0:\n",
    "    player_choice = input('Enter your choice: \\n\\n')#collects player input\n",
    "    computer_choice = random.choice(choice)#random generator for computer's choice\n",
    "    print(\"player chooses \" + str(player_choice))# displays player choice\n",
    "    print(\"Computer plays \", computer_choice)\n",
    "    \n",
    "    #algorithm for the game\n",
    "    if player_choice == computer_choice:\n",
    "        print(\"You drew Continue\")\n",
    "        continue\n",
    "    elif player_choice == 'paper' and computer_choice == 'scissors':\n",
    "        lives -= 1\n",
    "        print(\"You have \" + str(lives) + \" lives left\")\n",
    "        continue\n",
    "    elif player_choice == 'rock' and computer_choice == 'paper':\n",
    "        lives -= 1\n",
    "        print(\"You have \" + str(lives) + \" lives left\")\n",
    "        continue\n",
    "    elif player_choice == 'scissors' and computer_choice == 'rock':\n",
    "        lives -= 1\n",
    "        print(\"You have \" + str(lives) + \" lives left\")\n",
    "        continue\n",
    "    elif player_choice == 'rock' and computer_choice == 'scissors':\n",
    "        print(\"You won this round continue\")\n",
    "        points += 1\n",
    "        continue\n",
    "    elif player_choice == 'scissors' and computer_choice == 'paper':\n",
    "        print(\"You won this round continue\")\n",
    "        points += 1\n",
    "        continue\n",
    "    elif player_choice == 'paper' and computer_choice == 'rock':\n",
    "        print(\"You won this round continue\")\n",
    "        points += 1\n",
    "        continue\n",
    "    else:\n",
    "            print(\"invalid entry\\n\\n\")\n",
    "    \n",
    "if lives == 0:\n",
    "    print(\"you lost\\n you had \" + str(points) + \"points\")"
   ]
  },
  {
   "cell_type": "code",
   "execution_count": null,
   "metadata": {},
   "outputs": [],
   "source": []
  }
 ],
 "metadata": {
  "kernelspec": {
   "display_name": "Python",
   "language": "python",
   "name": "conda-env-python-py"
  },
  "language_info": {
   "codemirror_mode": {
    "name": "ipython",
    "version": 3
   },
   "file_extension": ".py",
   "mimetype": "text/x-python",
   "name": "python",
   "nbconvert_exporter": "python",
   "pygments_lexer": "ipython3",
   "version": "3.6.7"
  }
 },
 "nbformat": 4,
 "nbformat_minor": 4
}
