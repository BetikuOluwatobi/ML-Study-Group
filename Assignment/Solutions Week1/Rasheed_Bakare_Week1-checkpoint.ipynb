{
 "cells": [
  {
   "cell_type": "code",
   "execution_count": 1,
   "metadata": {},
   "outputs": [
    {
     "name": "stdout",
     "output_type": "stream",
     "text": [
      "59.666666666666664\n",
      "65.66666666666667\n",
      "78\n"
     ]
    }
   ],
   "source": [
    "class Students:\n",
    "    def __init__(self, g1, g2, g3):\n",
    "           self.g1 = g1\n",
    "           self.g2 = g2\n",
    "           self.g3 = g3\n",
    "    def average(self):\n",
    "           return (self.g1 + self.g2 + self.g3) / 3\n",
    "d1 = Students(78,45,56)\n",
    "d2 = Students(87,45,65)\n",
    "\n",
    "\n",
    "\n",
    "\n",
    "print(d1.average())\n",
    "print(d2.average())\n",
    "print(d1.g1)\n"
   ]
  },
  {
   "cell_type": "code",
   "execution_count": 2,
   "metadata": {},
   "outputs": [],
   "source": [
    "import  numpy as np\n"
   ]
  },
  {
   "cell_type": "code",
   "execution_count": 3,
   "metadata": {},
   "outputs": [],
   "source": [
    " Students = (34, 37,38,45,67,98,189)\n"
   ]
  },
  {
   "cell_type": "code",
   "execution_count": 4,
   "metadata": {},
   "outputs": [
    {
     "data": {
      "text/plain": [
       "45.0"
      ]
     },
     "execution_count": 4,
     "metadata": {},
     "output_type": "execute_result"
    }
   ],
   "source": [
    "np.median(Students)"
   ]
  },
  {
   "cell_type": "code",
   "execution_count": 5,
   "metadata": {},
   "outputs": [],
   "source": [
    "Universities =  [np.random.randint(100) for _ in range(100)]\n"
   ]
  },
  {
   "cell_type": "code",
   "execution_count": 6,
   "metadata": {},
   "outputs": [
    {
     "data": {
      "text/plain": [
       "ModeResult(mode=array([34]), count=array([1]))"
      ]
     },
     "execution_count": 6,
     "metadata": {},
     "output_type": "execute_result"
    }
   ],
   "source": [
    "from scipy import stats\n",
    "stats.mode(Students)"
   ]
  },
  {
   "cell_type": "code",
   "execution_count": 7,
   "metadata": {},
   "outputs": [
    {
     "name": "stdout",
     "output_type": "stream",
     "text": [
      "1383.0\n"
     ]
    }
   ],
   "source": [
    "import numpy as np \n",
    "g = [400, 789, 908, 1034,1266,1500]\n",
    "t = np.percentile(g, 90)\n",
    "print(t)"
   ]
  },
  {
   "cell_type": "code",
   "execution_count": 8,
   "metadata": {},
   "outputs": [
    {
     "name": "stdout",
     "output_type": "stream",
     "text": [
      "Standard Deviation : 319.97685463170615\n"
     ]
    }
   ],
   "source": [
    "import numpy as np \n",
    "rainfall_mm = [120, 150, 200, 370, 567, 678, 890, 1007]\n",
    "print('Standard Deviation :', np .std(rainfall_mm))"
   ]
  },
  {
   "cell_type": "code",
   "execution_count": null,
   "metadata": {},
   "outputs": [],
   "source": []
  },
  {
   "cell_type": "code",
   "execution_count": null,
   "metadata": {},
   "outputs": [],
   "source": []
  },
  {
   "cell_type": "code",
   "execution_count": null,
   "metadata": {},
   "outputs": [
    {
     "name": "stdout",
     "output_type": "stream",
     "text": [
      "Rock paper scissors\n",
      " lets begin\n"
     ]
    }
   ],
   "source": [
    "import random\n",
    "\n",
    "print('Rock paper scissors\\n lets begin')\n",
    "\n",
    "choice = [\"rock\", \"paper\", \"scissors\"] #list of choices\n",
    "lives = 3\n",
    "points = 0\n",
    "\n",
    "while lives > 0:\n",
    "     #collect user input\n",
    "    player1_choice = input(\"your turn\")\n",
    "     #generate computer choice\n",
    "    computer_choice = random.choice(choice)\n",
    "     #print users choice\n",
    "    print(\"players choice\" + str(player1_choice))\n",
    "    \n",
    "    #compares choices\n",
    "    print(\"cpu plays\" ,computer_choice)\n",
    "    \n",
    "    if player1_choice == computer_choice:  \n",
    "        print(\"You drew play again\")\n",
    "        continue\n",
    "    elif player1_choice == \"paper\" and computer_choice == \"rock\":\n",
    "        print(\"you won this round, proceed to the next round\")\n",
    "        points += 1\n",
    "    elif player1_choice == \"paper\" and computer_choice == \"scissors\":\n",
    "        print(\"you lost this round, continue\")\n",
    "        lives -= 1\n",
    "        print(\"you have\" + str(lives) + \"lives left\")\n",
    "    elif player1_choice == \"rock\" and computer_choice == \"paper\":\n",
    "        print(\"you lost this round, play again\")\n",
    "        lives -= 1\n",
    "        print(\"you have\" + str(lives) + \"lives left\")\n",
    "    elif player1_choice == \"rock\" and computer_choice == \"scissors\":\n",
    "        print(\"you won this round, continue\")\n",
    "        points += 1\n",
    "    elif player1_choice == \"paper\" and computer_choice == \"scissors\":\n",
    "        print(\"you lost this round, play again\")\n",
    "        lives -= 1\n",
    "        print(\"you have\" + str(lives) + \"lives left\")\n",
    "    elif player1_choice == \"paper\" and computer_choice == \"rock\":\n",
    "        print(\"you won this round, continue\")\n",
    "        points += 1\n",
    "    else: \n",
    "        print (\"invalid choice, try again\")\n",
    "        \n",
    "    if lives == 0:\n",
    "        print(\"you lost, you had\" + str(points) + \"points\" )"
   ]
  },
  {
   "cell_type": "code",
   "execution_count": null,
   "metadata": {},
   "outputs": [],
   "source": []
  },
  {
   "cell_type": "code",
   "execution_count": null,
   "metadata": {},
   "outputs": [],
   "source": []
  }
 ],
 "metadata": {
  "kernelspec": {
   "display_name": "Python 3",
   "language": "python",
   "name": "python3"
  },
  "language_info": {
   "codemirror_mode": {
    "name": "ipython",
    "version": 3
   },
   "file_extension": ".py",
   "mimetype": "text/x-python",
   "name": "python",
   "nbconvert_exporter": "python",
   "pygments_lexer": "ipython3",
   "version": "3.7.4"
  }
 },
 "nbformat": 4,
 "nbformat_minor": 2
}
