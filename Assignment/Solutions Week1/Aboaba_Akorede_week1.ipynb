{
 "cells": [
  {
   "cell_type": "code",
   "execution_count": 7,
   "metadata": {},
   "outputs": [
    {
     "name": "stdout",
     "output_type": "stream",
     "text": [
      "Rock paper scissors\n",
      " welcome\n",
      "make your choicerock\n",
      "players choicerock\n",
      "cpu plays scissors\n",
      "you won this round, continue\n",
      "make your choicerock\n",
      "players choicerock\n",
      "cpu plays paper\n",
      "you lost this round, play again\n",
      "you have2lives left\n",
      "make your choicerocks\n",
      "players choicerocks\n",
      "cpu plays paper\n",
      "invalid choice, try again\n",
      "make your choicerock\n",
      "players choicerock\n",
      "cpu plays paper\n",
      "you lost this round, play again\n",
      "you have1lives left\n",
      "make your choicerock\n",
      "players choicerock\n",
      "cpu plays paper\n",
      "you lost this round, play again\n",
      "you have0lives left\n",
      "you lost, you had1points\n"
     ]
    }
   ],
   "source": [
    "import random\n",
    "\n",
    "print(\"Rock paper scissors\\n welcome\")\n",
    "\n",
    "choice = [\"rock\", \"paper\", \"scissors\"] #list of choices\n",
    "lives = 3\n",
    "points = 0\n",
    "\n",
    "while lives > 0:\n",
    "     #collect user input\n",
    "    user_choice = input(\"make your choice\")\n",
    "     #generate computer choice\n",
    "    comp_choice = random.choice(choice)\n",
    "     #print users choice\n",
    "    print(\"players choice\" + str(user_choice))\n",
    "    \n",
    "    #compares choices\n",
    "    print(\"cpu plays\" ,comp_choice)\n",
    "    \n",
    "    if user_choice == comp_choice:  \n",
    "        print(\"You drew play again\")\n",
    "        continue\n",
    "    elif user_choice == \"scissors\" and comp_choice == \"rock\":\n",
    "        print(\"you lost this round, play again\")\n",
    "        lives -= 1\n",
    "        print(\"you have\" + str(lives) + \"lives left\")\n",
    "    elif user_choice == \"scissors\" and comp_choice == \"paper\":\n",
    "        print(\"you won this round, continue\")\n",
    "        points += 1\n",
    "    elif user_choice == \"rock\" and comp_choice == \"paper\":\n",
    "        print(\"you lost this round, play again\")\n",
    "        lives -= 1\n",
    "        print(\"you have\" + str(lives) + \"lives left\")\n",
    "    elif user_choice == \"rock\" and comp_choice == \"scissors\":\n",
    "        print(\"you won this round, continue\")\n",
    "        points += 1\n",
    "    elif user_choice == \"paper\" and comp_choice == \"scissors\":\n",
    "        print(\"you lost this round, play again\")\n",
    "        lives -= 1\n",
    "        print(\"you have\" + str(lives) + \"lives left\")\n",
    "    elif user_choice == \"paper\" and comp_choice == \"rock\":\n",
    "        print(\"you won this round, continue\")\n",
    "        points += 1\n",
    "    else: \n",
    "        print (\"invalid choice, try again\")\n",
    "        \n",
    "    if lives == 0:\n",
    "        print(\"you lost, you had\" + str(points) + \"points\" )"
   ]
  },
  {
   "cell_type": "code",
   "execution_count": null,
   "metadata": {},
   "outputs": [],
   "source": []
  }
 ],
 "metadata": {
  "kernelspec": {
   "display_name": "Python 3",
   "language": "python",
   "name": "python3"
  },
  "language_info": {
   "codemirror_mode": {
    "name": "ipython",
    "version": 3
   },
   "file_extension": ".py",
   "mimetype": "text/x-python",
   "name": "python",
   "nbconvert_exporter": "python",
   "pygments_lexer": "ipython3",
   "version": "3.7.1"
  }
 },
 "nbformat": 4,
 "nbformat_minor": 2
}
