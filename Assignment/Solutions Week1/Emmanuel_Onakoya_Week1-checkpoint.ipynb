{
 "cells": [
  {
   "cell_type": "code",
   "execution_count": 2,
   "metadata": {},
   "outputs": [
    {
     "name": "stdout",
     "output_type": "stream",
     "text": [
      "mean is: 5.5\n"
     ]
    }
   ],
   "source": [
    "#mean of numbers\n",
    "#list of numbers\n",
    "numbers = [1,2,3,4,5,6,7,8,9,10]\n",
    "#length of numbers\n",
    "a = len(numbers)\n",
    "#sum of numbers\n",
    "num_sum = sum(numbers)\n",
    "mean = num_sum/a\n",
    "print('mean is: ' + str(mean)) "
   ]
  },
  {
   "cell_type": "code",
   "execution_count": 4,
   "metadata": {},
   "outputs": [
    {
     "name": "stdout",
     "output_type": "stream",
     "text": [
      "Median is: 5.5\n"
     ]
    }
   ],
   "source": [
    "#median of numbers\n",
    "#list of numbers\n",
    "num = [1,2,3,4,5,6,7,8,9,10]\n",
    "#length of numbers\n",
    "l_n = len(num)\n",
    "if l_n % 2 == 0:\n",
    "    med1 = num[l_n//2]\n",
    "    med2 = num[l_n//2 - 1]\n",
    "    median = (med1 + med2)/2\n",
    "else:\n",
    "    median = num[l_n//2]\n",
    "print('Median is: ' + str(median))\n"
   ]
  },
  {
   "cell_type": "code",
   "execution_count": 4,
   "metadata": {},
   "outputs": [
    {
     "name": "stdout",
     "output_type": "stream",
     "text": [
      "Mode of list of numbers is: 10 \n"
     ]
    }
   ],
   "source": [
    "#mode of numbers\n",
    "import statistics\n",
    "#list of numbers\n",
    "number_list = [1,1,1,2,2,3,4,5,6,7,8,9,10,10,10,10,10]\n",
    "print('Mode of list of numbers is: % s ' % (statistics.mode(number_list)))\n"
   ]
  },
  {
   "cell_type": "code",
   "execution_count": 5,
   "metadata": {},
   "outputs": [
    {
     "name": "stdout",
     "output_type": "stream",
     "text": [
      "Standard deviation of list of numbers is: 3.0276503540974917\n"
     ]
    }
   ],
   "source": [
    "#standard deviation of numbers\n",
    "import statistics\n",
    "#list of numbers\n",
    "num_l = [1,2,3,4,5,6,7,8,9,10]\n",
    "print('Standard deviation of list of numbers is: % s' % (statistics.stdev(num_l)))"
   ]
  },
  {
   "cell_type": "code",
   "execution_count": 7,
   "metadata": {},
   "outputs": [
    {
     "name": "stdout",
     "output_type": "stream",
     "text": [
      "percentile of list of numbers is:  10.0\n"
     ]
    }
   ],
   "source": [
    "#percentile of numbers\n",
    "import numpy as np\n",
    "lll_ = [1,2,3,4,5,6,7,8,9,10]\n",
    "print('percentile of list of numbers is: ',np.percentile(lll_, 100))"
   ]
  },
  {
   "cell_type": "code",
   "execution_count": null,
   "metadata": {},
   "outputs": [],
   "source": [
    "d = str(input('Enter your choice: '))\n",
    "if d == 'paper':\n",
    "    print('computer plays: Rock')\n",
    "    print('You won this round, continue.')\n",
    "elif d == 'rock':\n",
    "    print('computer plays: rock')\n",
    "    print('You drew this round, continue.')\n",
    "else:\n",
    "    print('computer plays: scissors')\n",
    "    print('You drew this round, continue.')\n",
    "e = str(input('Enter your choice: '))\n",
    "if e == 'rock':\n",
    "    print('computer plays: Paper')\n",
    "    print('You have two lives left.')\n",
    "elif e == 'paper':\n",
    "    print('computer plays: scissors')\n",
    "    print('You have two lives left.')\n",
    "else:\n",
    "    print('computer plays: Rock')\n",
    "    print('You have two lives left.')\n",
    "f = str(input('Enter your choice: '))\n",
    "if f == 'scissors':\n",
    "    print ('computer plays: Rock')\n",
    "    print('You have a life left.')\n",
    "elif f == 'rock':\n",
    "    print('computer plays: paper')\n",
    "    print('You have a life left.')\n",
    "else:\n",
    "    print('computer plays: scissors')\n",
    "    print('You have a life left.')\n",
    "g = str(input('Enter your choice: '))\n",
    "if g == 'rock':\n",
    "    print('computer plays: paper')\n",
    "    print('You have lost.')\n",
    "elif g == 'paper':\n",
    "    print('computer plays: scissors')\n",
    "    print('You have lost.')\n",
    "else:\n",
    "    print('computer plays rock')\n",
    "    print('You have lost.')\n"
   ]
  }
 ],
 "metadata": {
  "kernelspec": {
   "display_name": "Python 3",
   "language": "python",
   "name": "python3"
  }
 },
 "nbformat": 4,
 "nbformat_minor": 2
}
