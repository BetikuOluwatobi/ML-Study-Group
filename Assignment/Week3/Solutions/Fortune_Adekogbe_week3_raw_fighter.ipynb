{
 "cells": [
  {
   "cell_type": "code",
   "execution_count": 1,
   "metadata": {},
   "outputs": [],
   "source": [
    "import pandas as pd\n",
    "import numpy as np"
   ]
  },
  {
   "cell_type": "code",
   "execution_count": 2,
   "metadata": {},
   "outputs": [],
   "source": [
    "raw_fighter = pd.read_csv('raw_fighter_details.csv')"
   ]
  },
  {
   "cell_type": "markdown",
   "metadata": {},
   "source": [
    "## Data Preprocessing"
   ]
  },
  {
   "cell_type": "code",
   "execution_count": 3,
   "metadata": {},
   "outputs": [
    {
     "data": {
      "text/html": [
       "<div>\n",
       "<style scoped>\n",
       "    .dataframe tbody tr th:only-of-type {\n",
       "        vertical-align: middle;\n",
       "    }\n",
       "\n",
       "    .dataframe tbody tr th {\n",
       "        vertical-align: top;\n",
       "    }\n",
       "\n",
       "    .dataframe thead th {\n",
       "        text-align: right;\n",
       "    }\n",
       "</style>\n",
       "<table border=\"1\" class=\"dataframe\">\n",
       "  <thead>\n",
       "    <tr style=\"text-align: right;\">\n",
       "      <th></th>\n",
       "      <th>fighter_name</th>\n",
       "      <th>Height</th>\n",
       "      <th>Weight</th>\n",
       "      <th>Reach</th>\n",
       "      <th>Stance</th>\n",
       "      <th>DOB</th>\n",
       "    </tr>\n",
       "  </thead>\n",
       "  <tbody>\n",
       "    <tr>\n",
       "      <th>3308</th>\n",
       "      <td>Zelim Imadaev</td>\n",
       "      <td>6' 0\"</td>\n",
       "      <td>170 lbs.</td>\n",
       "      <td>76\"</td>\n",
       "      <td>Orthodox</td>\n",
       "      <td>Jan 25, 1995</td>\n",
       "    </tr>\n",
       "    <tr>\n",
       "      <th>3309</th>\n",
       "      <td>Zhang Lipeng</td>\n",
       "      <td>5' 11\"</td>\n",
       "      <td>155 lbs.</td>\n",
       "      <td>71\"</td>\n",
       "      <td>Southpaw</td>\n",
       "      <td>Mar 10, 1990</td>\n",
       "    </tr>\n",
       "    <tr>\n",
       "      <th>3310</th>\n",
       "      <td>Zoila Frausto</td>\n",
       "      <td>5' 4\"</td>\n",
       "      <td>135 lbs.</td>\n",
       "      <td>NaN</td>\n",
       "      <td>Orthodox</td>\n",
       "      <td>NaN</td>\n",
       "    </tr>\n",
       "    <tr>\n",
       "      <th>3311</th>\n",
       "      <td>Zu Anyanwu</td>\n",
       "      <td>6' 1\"</td>\n",
       "      <td>251 lbs.</td>\n",
       "      <td>77\"</td>\n",
       "      <td>Orthodox</td>\n",
       "      <td>Aug 05, 1981</td>\n",
       "    </tr>\n",
       "    <tr>\n",
       "      <th>3312</th>\n",
       "      <td>Zubaira Tukhugov</td>\n",
       "      <td>5' 8\"</td>\n",
       "      <td>145 lbs.</td>\n",
       "      <td>68\"</td>\n",
       "      <td>Orthodox</td>\n",
       "      <td>Jan 15, 1991</td>\n",
       "    </tr>\n",
       "  </tbody>\n",
       "</table>\n",
       "</div>"
      ],
      "text/plain": [
       "          fighter_name  Height    Weight Reach    Stance           DOB\n",
       "3308     Zelim Imadaev   6' 0\"  170 lbs.   76\"  Orthodox  Jan 25, 1995\n",
       "3309      Zhang Lipeng  5' 11\"  155 lbs.   71\"  Southpaw  Mar 10, 1990\n",
       "3310     Zoila Frausto   5' 4\"  135 lbs.   NaN  Orthodox           NaN\n",
       "3311        Zu Anyanwu   6' 1\"  251 lbs.   77\"  Orthodox  Aug 05, 1981\n",
       "3312  Zubaira Tukhugov   5' 8\"  145 lbs.   68\"  Orthodox  Jan 15, 1991"
      ]
     },
     "execution_count": 3,
     "metadata": {},
     "output_type": "execute_result"
    }
   ],
   "source": [
    "raw_fighter.tail()"
   ]
  },
  {
   "cell_type": "code",
   "execution_count": 4,
   "metadata": {},
   "outputs": [
    {
     "data": {
      "text/plain": [
       "Orthodox       1913\n",
       "Southpaw        431\n",
       "Switch           85\n",
       "Open Stance       7\n",
       "Sideways          3\n",
       "Name: Stance, dtype: int64"
      ]
     },
     "execution_count": 4,
     "metadata": {},
     "output_type": "execute_result"
    }
   ],
   "source": [
    "raw_fighter['Stance'].value_counts()\n"
   ]
  },
  {
   "cell_type": "code",
   "execution_count": 6,
   "metadata": {},
   "outputs": [],
   "source": [
    "raw_fighter['Stance'] = raw_fighter['Stance'].fillna('Orthodox')"
   ]
  },
  {
   "cell_type": "code",
   "execution_count": 7,
   "metadata": {},
   "outputs": [
    {
     "data": {
      "text/plain": [
       "Orthodox       2787\n",
       "Southpaw        431\n",
       "Switch           85\n",
       "Open Stance       7\n",
       "Sideways          3\n",
       "Name: Stance, dtype: int64"
      ]
     },
     "execution_count": 7,
     "metadata": {},
     "output_type": "execute_result"
    }
   ],
   "source": [
    "raw_fighter['Stance'].value_counts()"
   ]
  },
  {
   "cell_type": "code",
   "execution_count": 66,
   "metadata": {},
   "outputs": [],
   "source": [
    "raw_fighter['Weight'] = raw_fighter['Weight'].fillna('174 lbs.')"
   ]
  },
  {
   "cell_type": "code",
   "execution_count": 67,
   "metadata": {},
   "outputs": [],
   "source": [
    "raw_fighter['Weight (lbs)']=[str(i)[:-5] for i in list(raw_fighter['Weight'])]"
   ]
  },
  {
   "cell_type": "code",
   "execution_count": 68,
   "metadata": {},
   "outputs": [
    {
     "data": {
      "text/html": [
       "<div>\n",
       "<style scoped>\n",
       "    .dataframe tbody tr th:only-of-type {\n",
       "        vertical-align: middle;\n",
       "    }\n",
       "\n",
       "    .dataframe tbody tr th {\n",
       "        vertical-align: top;\n",
       "    }\n",
       "\n",
       "    .dataframe thead th {\n",
       "        text-align: right;\n",
       "    }\n",
       "</style>\n",
       "<table border=\"1\" class=\"dataframe\">\n",
       "  <thead>\n",
       "    <tr style=\"text-align: right;\">\n",
       "      <th></th>\n",
       "      <th>fighter_name</th>\n",
       "      <th>Height</th>\n",
       "      <th>Weight</th>\n",
       "      <th>Reach</th>\n",
       "      <th>Stance</th>\n",
       "      <th>DOB</th>\n",
       "      <th>Weight (lbs)</th>\n",
       "    </tr>\n",
       "  </thead>\n",
       "  <tbody>\n",
       "    <tr>\n",
       "      <th>0</th>\n",
       "      <td>AJ Fonseca</td>\n",
       "      <td>5' 4\"</td>\n",
       "      <td>145 lbs.</td>\n",
       "      <td>NaN</td>\n",
       "      <td>Orthodox</td>\n",
       "      <td>NaN</td>\n",
       "      <td>145</td>\n",
       "    </tr>\n",
       "    <tr>\n",
       "      <th>1</th>\n",
       "      <td>AJ Matthews</td>\n",
       "      <td>5' 11\"</td>\n",
       "      <td>185 lbs.</td>\n",
       "      <td>NaN</td>\n",
       "      <td>Orthodox</td>\n",
       "      <td>NaN</td>\n",
       "      <td>185</td>\n",
       "    </tr>\n",
       "    <tr>\n",
       "      <th>2</th>\n",
       "      <td>AJ McKee</td>\n",
       "      <td>5' 10\"</td>\n",
       "      <td>145 lbs.</td>\n",
       "      <td>NaN</td>\n",
       "      <td>Orthodox</td>\n",
       "      <td>NaN</td>\n",
       "      <td>145</td>\n",
       "    </tr>\n",
       "    <tr>\n",
       "      <th>3</th>\n",
       "      <td>AJ Siscoe</td>\n",
       "      <td>5' 7\"</td>\n",
       "      <td>135 lbs.</td>\n",
       "      <td>NaN</td>\n",
       "      <td>Orthodox</td>\n",
       "      <td>NaN</td>\n",
       "      <td>135</td>\n",
       "    </tr>\n",
       "    <tr>\n",
       "      <th>4</th>\n",
       "      <td>Aalon Cruz</td>\n",
       "      <td>6' 0\"</td>\n",
       "      <td>145 lbs.</td>\n",
       "      <td>NaN</td>\n",
       "      <td>Orthodox</td>\n",
       "      <td>NaN</td>\n",
       "      <td>145</td>\n",
       "    </tr>\n",
       "    <tr>\n",
       "      <th>5</th>\n",
       "      <td>Aaron Brink</td>\n",
       "      <td>6' 3\"</td>\n",
       "      <td>205 lbs.</td>\n",
       "      <td>NaN</td>\n",
       "      <td>Orthodox</td>\n",
       "      <td>Nov 12, 1974</td>\n",
       "      <td>205</td>\n",
       "    </tr>\n",
       "    <tr>\n",
       "      <th>6</th>\n",
       "      <td>Aaron Ely</td>\n",
       "      <td>5' 8\"</td>\n",
       "      <td>135 lbs.</td>\n",
       "      <td>NaN</td>\n",
       "      <td>Orthodox</td>\n",
       "      <td>Mar 18, 1989</td>\n",
       "      <td>135</td>\n",
       "    </tr>\n",
       "    <tr>\n",
       "      <th>7</th>\n",
       "      <td>Aaron Jeffery</td>\n",
       "      <td>6' 2\"</td>\n",
       "      <td>185 lbs.</td>\n",
       "      <td>NaN</td>\n",
       "      <td>Orthodox</td>\n",
       "      <td>Nov 14, 1992</td>\n",
       "      <td>185</td>\n",
       "    </tr>\n",
       "    <tr>\n",
       "      <th>8</th>\n",
       "      <td>Aaron Lanfranco</td>\n",
       "      <td>NaN</td>\n",
       "      <td>155 lbs.</td>\n",
       "      <td>NaN</td>\n",
       "      <td>Orthodox</td>\n",
       "      <td>Aug 26, 1986</td>\n",
       "      <td>155</td>\n",
       "    </tr>\n",
       "    <tr>\n",
       "      <th>9</th>\n",
       "      <td>Aaron Miller</td>\n",
       "      <td>5' 9\"</td>\n",
       "      <td>145 lbs.</td>\n",
       "      <td>NaN</td>\n",
       "      <td>Orthodox</td>\n",
       "      <td>NaN</td>\n",
       "      <td>145</td>\n",
       "    </tr>\n",
       "  </tbody>\n",
       "</table>\n",
       "</div>"
      ],
      "text/plain": [
       "      fighter_name  Height    Weight Reach    Stance           DOB  \\\n",
       "0       AJ Fonseca   5' 4\"  145 lbs.   NaN  Orthodox           NaN   \n",
       "1      AJ Matthews  5' 11\"  185 lbs.   NaN  Orthodox           NaN   \n",
       "2         AJ McKee  5' 10\"  145 lbs.   NaN  Orthodox           NaN   \n",
       "3        AJ Siscoe   5' 7\"  135 lbs.   NaN  Orthodox           NaN   \n",
       "4       Aalon Cruz   6' 0\"  145 lbs.   NaN  Orthodox           NaN   \n",
       "5      Aaron Brink   6' 3\"  205 lbs.   NaN  Orthodox  Nov 12, 1974   \n",
       "6        Aaron Ely   5' 8\"  135 lbs.   NaN  Orthodox  Mar 18, 1989   \n",
       "7    Aaron Jeffery   6' 2\"  185 lbs.   NaN  Orthodox  Nov 14, 1992   \n",
       "8  Aaron Lanfranco     NaN  155 lbs.   NaN  Orthodox  Aug 26, 1986   \n",
       "9     Aaron Miller   5' 9\"  145 lbs.   NaN  Orthodox           NaN   \n",
       "\n",
       "  Weight (lbs)  \n",
       "0          145  \n",
       "1          185  \n",
       "2          145  \n",
       "3          135  \n",
       "4          145  \n",
       "5          205  \n",
       "6          135  \n",
       "7          185  \n",
       "8          155  \n",
       "9          145  "
      ]
     },
     "execution_count": 68,
     "metadata": {},
     "output_type": "execute_result"
    }
   ],
   "source": [
    "raw_fighter.head(10)"
   ]
  },
  {
   "cell_type": "code",
   "execution_count": 87,
   "metadata": {},
   "outputs": [
    {
     "data": {
      "text/plain": [
       "fighter_name    1565\n",
       "Height          1565\n",
       "Weight          1565\n",
       "Reach           1565\n",
       "Stance          1565\n",
       "DOB             1565\n",
       "Weight (lbs)    1565\n",
       "Height(ft)      1565\n",
       "dtype: int64"
      ]
     },
     "execution_count": 87,
     "metadata": {},
     "output_type": "execute_result"
    }
   ],
   "source": [
    "raw_fighter.count()"
   ]
  },
  {
   "cell_type": "code",
   "execution_count": 71,
   "metadata": {},
   "outputs": [],
   "source": [
    "raw_fighter.dropna(subset =['Height'],inplace=True)"
   ]
  },
  {
   "cell_type": "code",
   "execution_count": 78,
   "metadata": {},
   "outputs": [
    {
     "data": {
      "text/plain": [
       "5.33"
      ]
     },
     "execution_count": 78,
     "metadata": {},
     "output_type": "execute_result"
    }
   ],
   "source": [
    "x=list(raw_fighter['Height'])\n",
    "s =[int(i[:-1]) for i in x[0].split(' ')]\n",
    "s[1]=s[1]/12\n",
    "round(sum(s),2)"
   ]
  },
  {
   "cell_type": "code",
   "execution_count": 79,
   "metadata": {},
   "outputs": [],
   "source": [
    "x = []\n",
    "for i in list(raw_fighter['Height']):\n",
    "    i=[int(j[:-1]) for j in i.split(' ')]\n",
    "    i[1] = i[1]/12\n",
    "    x.append(round(sum(i),2))\n",
    "raw_fighter['Height(ft)']=x\n",
    "    "
   ]
  },
  {
   "cell_type": "code",
   "execution_count": 86,
   "metadata": {},
   "outputs": [],
   "source": [
    "raw_fighter.dropna(subset=['Reach','DOB'],inplace=True)"
   ]
  },
  {
   "cell_type": "code",
   "execution_count": 92,
   "metadata": {},
   "outputs": [],
   "source": [
    "raw_fighter['Age'] = [2020-int(i[-4:]) for i in list(raw_fighter['DOB'])]"
   ]
  },
  {
   "cell_type": "code",
   "execution_count": 99,
   "metadata": {},
   "outputs": [],
   "source": [
    "raw_fighter[\"Reach\"] = [int(i) for i in list(raw_fighter['Reach'])]"
   ]
  },
  {
   "cell_type": "code",
   "execution_count": 102,
   "metadata": {},
   "outputs": [],
   "source": [
    "raw_fighter.to_csv('fighter-details.csv',index=False)"
   ]
  },
  {
   "cell_type": "code",
   "execution_count": 100,
   "metadata": {},
   "outputs": [
    {
     "data": {
      "text/html": [
       "<div>\n",
       "<style scoped>\n",
       "    .dataframe tbody tr th:only-of-type {\n",
       "        vertical-align: middle;\n",
       "    }\n",
       "\n",
       "    .dataframe tbody tr th {\n",
       "        vertical-align: top;\n",
       "    }\n",
       "\n",
       "    .dataframe thead th {\n",
       "        text-align: right;\n",
       "    }\n",
       "</style>\n",
       "<table border=\"1\" class=\"dataframe\">\n",
       "  <thead>\n",
       "    <tr style=\"text-align: right;\">\n",
       "      <th></th>\n",
       "      <th>fighter_name</th>\n",
       "      <th>Height</th>\n",
       "      <th>Weight</th>\n",
       "      <th>Reach</th>\n",
       "      <th>Stance</th>\n",
       "      <th>DOB</th>\n",
       "      <th>Weight (lbs)</th>\n",
       "      <th>Height(ft)</th>\n",
       "      <th>Age</th>\n",
       "    </tr>\n",
       "  </thead>\n",
       "  <tbody>\n",
       "    <tr>\n",
       "      <th>10</th>\n",
       "      <td>Aaron Phillips</td>\n",
       "      <td>5' 9\"</td>\n",
       "      <td>135 lbs.</td>\n",
       "      <td>70</td>\n",
       "      <td>Southpaw</td>\n",
       "      <td>Aug 05, 1989</td>\n",
       "      <td>135</td>\n",
       "      <td>5.75</td>\n",
       "      <td>31</td>\n",
       "    </tr>\n",
       "    <tr>\n",
       "      <th>11</th>\n",
       "      <td>Aaron Riley</td>\n",
       "      <td>5' 8\"</td>\n",
       "      <td>155 lbs.</td>\n",
       "      <td>69</td>\n",
       "      <td>Southpaw</td>\n",
       "      <td>Dec 09, 1980</td>\n",
       "      <td>155</td>\n",
       "      <td>5.67</td>\n",
       "      <td>40</td>\n",
       "    </tr>\n",
       "    <tr>\n",
       "      <th>12</th>\n",
       "      <td>Aaron Rosa</td>\n",
       "      <td>6' 4\"</td>\n",
       "      <td>205 lbs.</td>\n",
       "      <td>78</td>\n",
       "      <td>Orthodox</td>\n",
       "      <td>May 28, 1983</td>\n",
       "      <td>205</td>\n",
       "      <td>6.33</td>\n",
       "      <td>37</td>\n",
       "    </tr>\n",
       "    <tr>\n",
       "      <th>13</th>\n",
       "      <td>Aaron Simpson</td>\n",
       "      <td>6' 0\"</td>\n",
       "      <td>170 lbs.</td>\n",
       "      <td>73</td>\n",
       "      <td>Orthodox</td>\n",
       "      <td>Jul 20, 1974</td>\n",
       "      <td>170</td>\n",
       "      <td>6.00</td>\n",
       "      <td>46</td>\n",
       "    </tr>\n",
       "    <tr>\n",
       "      <th>17</th>\n",
       "      <td>Abdul Razak Alhassan</td>\n",
       "      <td>5' 10\"</td>\n",
       "      <td>170 lbs.</td>\n",
       "      <td>73</td>\n",
       "      <td>Orthodox</td>\n",
       "      <td>Aug 11, 1985</td>\n",
       "      <td>170</td>\n",
       "      <td>5.83</td>\n",
       "      <td>35</td>\n",
       "    </tr>\n",
       "  </tbody>\n",
       "</table>\n",
       "</div>"
      ],
      "text/plain": [
       "            fighter_name  Height    Weight  Reach    Stance           DOB  \\\n",
       "10        Aaron Phillips   5' 9\"  135 lbs.     70  Southpaw  Aug 05, 1989   \n",
       "11           Aaron Riley   5' 8\"  155 lbs.     69  Southpaw  Dec 09, 1980   \n",
       "12            Aaron Rosa   6' 4\"  205 lbs.     78  Orthodox  May 28, 1983   \n",
       "13         Aaron Simpson   6' 0\"  170 lbs.     73  Orthodox  Jul 20, 1974   \n",
       "17  Abdul Razak Alhassan  5' 10\"  170 lbs.     73  Orthodox  Aug 11, 1985   \n",
       "\n",
       "   Weight (lbs)  Height(ft)  Age  \n",
       "10          135        5.75   31  \n",
       "11          155        5.67   40  \n",
       "12          205        6.33   37  \n",
       "13          170        6.00   46  \n",
       "17          170        5.83   35  "
      ]
     },
     "execution_count": 100,
     "metadata": {},
     "output_type": "execute_result"
    }
   ],
   "source": [
    "raw_fighter.head()"
   ]
  },
  {
   "cell_type": "markdown",
   "metadata": {},
   "source": [
    "## Data Visualization"
   ]
  },
  {
   "cell_type": "code",
   "execution_count": 124,
   "metadata": {},
   "outputs": [],
   "source": [
    "import matplotlib.pyplot as plt\n",
    "import seaborn as sns\n",
    "%matplotlib inline"
   ]
  },
  {
   "cell_type": "code",
   "execution_count": 126,
   "metadata": {},
   "outputs": [
    {
     "name": "stdout",
     "output_type": "stream",
     "text": [
      "4\n"
     ]
    },
    {
     "data": {
      "text/plain": [
       "<BarContainer object of 4 artists>"
      ]
     },
     "execution_count": 126,
     "metadata": {},
     "output_type": "execute_result"
    },
    {
     "data": {
      "image/png": "[encoded data removed]",
      "text/plain": [
       "<Figure size 432x288 with 1 Axes>"
      ]
     },
     "metadata": {
      "needs_background": "light"
     },
     "output_type": "display_data"
    }
   ],
   "source": [
    "import collections\n",
    "counts = collections.Counter(raw_fighter['Stance'])\n",
    "plt.bar(range(len(counts)), list(counts.values()), tick_label=list(counts.keys())) #to understand how stance is distributed"
   ]
  },
  {
   "cell_type": "code",
   "execution_count": 131,
   "metadata": {},
   "outputs": [
    {
     "data": {
      "text/plain": [
       "<matplotlib.collections.PathCollection at 0x1a5dab3bcf8>"
      ]
     },
     "execution_count": 131,
     "metadata": {},
     "output_type": "execute_result"
    },
    {
     "data": {
      "image/png": "[encoded data removed]",
      "text/plain": [
       "<Figure size 432x288 with 1 Axes>"
      ]
     },
     "metadata": {
      "needs_background": "light"
     },
     "output_type": "display_data"
    }
   ],
   "source": [
    "plt.scatter(raw_fighter['Reach'],raw_fighter['Height(ft)'],s=20) #To see how Reach varies with Height"
   ]
  },
  {
   "cell_type": "code",
   "execution_count": 150,
   "metadata": {},
   "outputs": [
    {
     "data": {
      "image/png": "[encoded data removed]",
      "text/plain": [
       "<Figure size 432x288 with 1 Axes>"
      ]
     },
     "metadata": {
      "needs_background": "light"
     },
     "output_type": "display_data"
    }
   ],
   "source": [
    "counts = collections.Counter(raw_fighter['Stance'])\n",
    "\n",
    "plt.boxplot(counts.values())\n",
    "plt.xticks(range(1,len(counts)+2), counts.keys());"
   ]
  },
  {
   "cell_type": "code",
   "execution_count": null,
   "metadata": {},
   "outputs": [],
   "source": []
  },
  {
   "cell_type": "code",
   "execution_count": null,
   "metadata": {},
   "outputs": [],
   "source": []
  },
  {
   "cell_type": "code",
   "execution_count": null,
   "metadata": {},
   "outputs": [],
   "source": []
  },
  {
   "cell_type": "code",
   "execution_count": null,
   "metadata": {},
   "outputs": [],
   "source": []
  }
 ],
 "metadata": {
  "kernelspec": {
   "display_name": "Python 3",
   "language": "python",
   "name": "python3"
  },
  "language_info": {
   "codemirror_mode": {
    "name": "ipython",
    "version": 3
   },
   "file_extension": ".py",
   "mimetype": "text/x-python",
   "name": "python",
   "nbconvert_exporter": "python",
   "pygments_lexer": "ipython3",
   "version": "3.7.3"
  }
 },
 "nbformat": 4,
 "nbformat_minor": 2
}
