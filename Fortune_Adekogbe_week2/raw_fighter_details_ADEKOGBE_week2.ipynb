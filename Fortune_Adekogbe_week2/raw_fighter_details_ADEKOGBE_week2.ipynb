{
 "cells": [
  {
   "cell_type": "code",
   "execution_count": 5,
   "metadata": {},
   "outputs": [
    {
     "data": {
      "text/html": [
       "<div>\n",
       "<style scoped>\n",
       "    .dataframe tbody tr th:only-of-type {\n",
       "        vertical-align: middle;\n",
       "    }\n",
       "\n",
       "    .dataframe tbody tr th {\n",
       "        vertical-align: top;\n",
       "    }\n",
       "\n",
       "    .dataframe thead th {\n",
       "        text-align: right;\n",
       "    }\n",
       "</style>\n",
       "<table border=\"1\" class=\"dataframe\">\n",
       "  <thead>\n",
       "    <tr style=\"text-align: right;\">\n",
       "      <th></th>\n",
       "      <th>fighter_name</th>\n",
       "      <th>Height</th>\n",
       "      <th>Weight</th>\n",
       "      <th>Reach</th>\n",
       "      <th>Stance</th>\n",
       "      <th>DOB</th>\n",
       "    </tr>\n",
       "  </thead>\n",
       "  <tbody>\n",
       "    <tr>\n",
       "      <th>0</th>\n",
       "      <td>AJ Fonseca</td>\n",
       "      <td>5' 4\"</td>\n",
       "      <td>145 lbs.</td>\n",
       "      <td>NaN</td>\n",
       "      <td>NaN</td>\n",
       "      <td>NaN</td>\n",
       "    </tr>\n",
       "    <tr>\n",
       "      <th>1</th>\n",
       "      <td>AJ Matthews</td>\n",
       "      <td>5' 11\"</td>\n",
       "      <td>185 lbs.</td>\n",
       "      <td>NaN</td>\n",
       "      <td>NaN</td>\n",
       "      <td>NaN</td>\n",
       "    </tr>\n",
       "    <tr>\n",
       "      <th>2</th>\n",
       "      <td>AJ McKee</td>\n",
       "      <td>5' 10\"</td>\n",
       "      <td>145 lbs.</td>\n",
       "      <td>NaN</td>\n",
       "      <td>NaN</td>\n",
       "      <td>NaN</td>\n",
       "    </tr>\n",
       "    <tr>\n",
       "      <th>3</th>\n",
       "      <td>AJ Siscoe</td>\n",
       "      <td>5' 7\"</td>\n",
       "      <td>135 lbs.</td>\n",
       "      <td>NaN</td>\n",
       "      <td>NaN</td>\n",
       "      <td>NaN</td>\n",
       "    </tr>\n",
       "    <tr>\n",
       "      <th>4</th>\n",
       "      <td>Aalon Cruz</td>\n",
       "      <td>6' 0\"</td>\n",
       "      <td>145 lbs.</td>\n",
       "      <td>NaN</td>\n",
       "      <td>NaN</td>\n",
       "      <td>NaN</td>\n",
       "    </tr>\n",
       "  </tbody>\n",
       "</table>\n",
       "</div>"
      ],
      "text/plain": [
       "  fighter_name  Height    Weight Reach Stance  DOB\n",
       "0   AJ Fonseca   5' 4\"  145 lbs.   NaN    NaN  NaN\n",
       "1  AJ Matthews  5' 11\"  185 lbs.   NaN    NaN  NaN\n",
       "2     AJ McKee  5' 10\"  145 lbs.   NaN    NaN  NaN\n",
       "3    AJ Siscoe   5' 7\"  135 lbs.   NaN    NaN  NaN\n",
       "4   Aalon Cruz   6' 0\"  145 lbs.   NaN    NaN  NaN"
      ]
     },
     "execution_count": 5,
     "metadata": {},
     "output_type": "execute_result"
    }
   ],
   "source": [
    "import pandas as pd\n",
    "file = 'raw_fighter_details.csv'\n",
    "data = pd.read_csv(file)\n",
    "data.head()"
   ]
  },
  {
   "cell_type": "code",
   "execution_count": 6,
   "metadata": {},
   "outputs": [
    {
     "data": {
      "text/html": [
       "<div>\n",
       "<style scoped>\n",
       "    .dataframe tbody tr th:only-of-type {\n",
       "        vertical-align: middle;\n",
       "    }\n",
       "\n",
       "    .dataframe tbody tr th {\n",
       "        vertical-align: top;\n",
       "    }\n",
       "\n",
       "    .dataframe thead th {\n",
       "        text-align: right;\n",
       "    }\n",
       "</style>\n",
       "<table border=\"1\" class=\"dataframe\">\n",
       "  <thead>\n",
       "    <tr style=\"text-align: right;\">\n",
       "      <th></th>\n",
       "      <th>fighter_name</th>\n",
       "      <th>Height</th>\n",
       "      <th>Weight</th>\n",
       "      <th>Reach</th>\n",
       "      <th>Stance</th>\n",
       "      <th>DOB</th>\n",
       "    </tr>\n",
       "  </thead>\n",
       "  <tbody>\n",
       "    <tr>\n",
       "      <th>3308</th>\n",
       "      <td>Zelim Imadaev</td>\n",
       "      <td>6' 0\"</td>\n",
       "      <td>170 lbs.</td>\n",
       "      <td>76\"</td>\n",
       "      <td>Orthodox</td>\n",
       "      <td>Jan 25, 1995</td>\n",
       "    </tr>\n",
       "    <tr>\n",
       "      <th>3309</th>\n",
       "      <td>Zhang Lipeng</td>\n",
       "      <td>5' 11\"</td>\n",
       "      <td>155 lbs.</td>\n",
       "      <td>71\"</td>\n",
       "      <td>Southpaw</td>\n",
       "      <td>Mar 10, 1990</td>\n",
       "    </tr>\n",
       "    <tr>\n",
       "      <th>3310</th>\n",
       "      <td>Zoila Frausto</td>\n",
       "      <td>5' 4\"</td>\n",
       "      <td>135 lbs.</td>\n",
       "      <td>NaN</td>\n",
       "      <td>Orthodox</td>\n",
       "      <td>NaN</td>\n",
       "    </tr>\n",
       "    <tr>\n",
       "      <th>3311</th>\n",
       "      <td>Zu Anyanwu</td>\n",
       "      <td>6' 1\"</td>\n",
       "      <td>251 lbs.</td>\n",
       "      <td>77\"</td>\n",
       "      <td>Orthodox</td>\n",
       "      <td>Aug 05, 1981</td>\n",
       "    </tr>\n",
       "    <tr>\n",
       "      <th>3312</th>\n",
       "      <td>Zubaira Tukhugov</td>\n",
       "      <td>5' 8\"</td>\n",
       "      <td>145 lbs.</td>\n",
       "      <td>68\"</td>\n",
       "      <td>Orthodox</td>\n",
       "      <td>Jan 15, 1991</td>\n",
       "    </tr>\n",
       "  </tbody>\n",
       "</table>\n",
       "</div>"
      ],
      "text/plain": [
       "          fighter_name  Height    Weight Reach    Stance           DOB\n",
       "3308     Zelim Imadaev   6' 0\"  170 lbs.   76\"  Orthodox  Jan 25, 1995\n",
       "3309      Zhang Lipeng  5' 11\"  155 lbs.   71\"  Southpaw  Mar 10, 1990\n",
       "3310     Zoila Frausto   5' 4\"  135 lbs.   NaN  Orthodox           NaN\n",
       "3311        Zu Anyanwu   6' 1\"  251 lbs.   77\"  Orthodox  Aug 05, 1981\n",
       "3312  Zubaira Tukhugov   5' 8\"  145 lbs.   68\"  Orthodox  Jan 15, 1991"
      ]
     },
     "execution_count": 6,
     "metadata": {},
     "output_type": "execute_result"
    }
   ],
   "source": [
    "data.tail()"
   ]
  },
  {
   "cell_type": "code",
   "execution_count": 7,
   "metadata": {},
   "outputs": [
    {
     "name": "stdout",
     "output_type": "stream",
     "text": [
      "Index(['fighter_name', 'Height', 'Weight', 'Reach', 'Stance', 'DOB'], dtype='object')\n"
     ]
    }
   ],
   "source": [
    "print(data.columns)"
   ]
  },
  {
   "cell_type": "code",
   "execution_count": 8,
   "metadata": {},
   "outputs": [
    {
     "data": {
      "text/plain": [
       "(3313, 6)"
      ]
     },
     "execution_count": 8,
     "metadata": {},
     "output_type": "execute_result"
    }
   ],
   "source": [
    "data.shape"
   ]
  },
  {
   "cell_type": "code",
   "execution_count": 10,
   "metadata": {},
   "outputs": [
    {
     "name": "stdout",
     "output_type": "stream",
     "text": [
      "fighter_name    AJ Siscoe\n",
      "Height              5' 7\"\n",
      "Weight           135 lbs.\n",
      "Reach                 NaN\n",
      "Stance                NaN\n",
      "DOB                   NaN\n",
      "Name: 3, dtype: object\n"
     ]
    }
   ],
   "source": [
    "print(data.iloc[3,:])"
   ]
  },
  {
   "cell_type": "code",
   "execution_count": 11,
   "metadata": {},
   "outputs": [
    {
     "data": {
      "text/html": [
       "<div>\n",
       "<style scoped>\n",
       "    .dataframe tbody tr th:only-of-type {\n",
       "        vertical-align: middle;\n",
       "    }\n",
       "\n",
       "    .dataframe tbody tr th {\n",
       "        vertical-align: top;\n",
       "    }\n",
       "\n",
       "    .dataframe thead th {\n",
       "        text-align: right;\n",
       "    }\n",
       "</style>\n",
       "<table border=\"1\" class=\"dataframe\">\n",
       "  <thead>\n",
       "    <tr style=\"text-align: right;\">\n",
       "      <th></th>\n",
       "      <th>fighter_name</th>\n",
       "      <th>Height</th>\n",
       "      <th>Weight</th>\n",
       "      <th>Reach</th>\n",
       "      <th>Stance</th>\n",
       "      <th>DOB</th>\n",
       "    </tr>\n",
       "  </thead>\n",
       "  <tbody>\n",
       "    <tr>\n",
       "      <th>count</th>\n",
       "      <td>3313</td>\n",
       "      <td>3050</td>\n",
       "      <td>3238</td>\n",
       "      <td>1569</td>\n",
       "      <td>2439</td>\n",
       "      <td>2573</td>\n",
       "    </tr>\n",
       "    <tr>\n",
       "      <th>unique</th>\n",
       "      <td>3313</td>\n",
       "      <td>27</td>\n",
       "      <td>108</td>\n",
       "      <td>25</td>\n",
       "      <td>5</td>\n",
       "      <td>2217</td>\n",
       "    </tr>\n",
       "    <tr>\n",
       "      <th>top</th>\n",
       "      <td>Saul Elizondo</td>\n",
       "      <td>6' 0\"</td>\n",
       "      <td>170 lbs.</td>\n",
       "      <td>72\"</td>\n",
       "      <td>Orthodox</td>\n",
       "      <td>Aug 08, 1988</td>\n",
       "    </tr>\n",
       "    <tr>\n",
       "      <th>freq</th>\n",
       "      <td>1</td>\n",
       "      <td>389</td>\n",
       "      <td>522</td>\n",
       "      <td>159</td>\n",
       "      <td>1913</td>\n",
       "      <td>4</td>\n",
       "    </tr>\n",
       "  </tbody>\n",
       "</table>\n",
       "</div>"
      ],
      "text/plain": [
       "         fighter_name Height    Weight Reach    Stance           DOB\n",
       "count            3313   3050      3238  1569      2439          2573\n",
       "unique           3313     27       108    25         5          2217\n",
       "top     Saul Elizondo  6' 0\"  170 lbs.   72\"  Orthodox  Aug 08, 1988\n",
       "freq                1    389       522   159      1913             4"
      ]
     },
     "execution_count": 11,
     "metadata": {},
     "output_type": "execute_result"
    }
   ],
   "source": [
    "data.describe()"
   ]
  },
  {
   "cell_type": "code",
   "execution_count": 17,
   "metadata": {},
   "outputs": [],
   "source": [
    "data.dropna(axis = 0,inplace = True)"
   ]
  },
  {
   "cell_type": "code",
   "execution_count": 18,
   "metadata": {},
   "outputs": [
    {
     "data": {
      "text/html": [
       "<div>\n",
       "<style scoped>\n",
       "    .dataframe tbody tr th:only-of-type {\n",
       "        vertical-align: middle;\n",
       "    }\n",
       "\n",
       "    .dataframe tbody tr th {\n",
       "        vertical-align: top;\n",
       "    }\n",
       "\n",
       "    .dataframe thead th {\n",
       "        text-align: right;\n",
       "    }\n",
       "</style>\n",
       "<table border=\"1\" class=\"dataframe\">\n",
       "  <thead>\n",
       "    <tr style=\"text-align: right;\">\n",
       "      <th></th>\n",
       "      <th>fighter_name</th>\n",
       "      <th>Height</th>\n",
       "      <th>Weight</th>\n",
       "      <th>Reach</th>\n",
       "      <th>Stance</th>\n",
       "      <th>DOB</th>\n",
       "    </tr>\n",
       "  </thead>\n",
       "  <tbody>\n",
       "    <tr>\n",
       "      <th>10</th>\n",
       "      <td>Aaron Phillips</td>\n",
       "      <td>5' 9\"</td>\n",
       "      <td>135 lbs.</td>\n",
       "      <td>70\"</td>\n",
       "      <td>Southpaw</td>\n",
       "      <td>Aug 05, 1989</td>\n",
       "    </tr>\n",
       "    <tr>\n",
       "      <th>11</th>\n",
       "      <td>Aaron Riley</td>\n",
       "      <td>5' 8\"</td>\n",
       "      <td>155 lbs.</td>\n",
       "      <td>69\"</td>\n",
       "      <td>Southpaw</td>\n",
       "      <td>Dec 09, 1980</td>\n",
       "    </tr>\n",
       "    <tr>\n",
       "      <th>12</th>\n",
       "      <td>Aaron Rosa</td>\n",
       "      <td>6' 4\"</td>\n",
       "      <td>205 lbs.</td>\n",
       "      <td>78\"</td>\n",
       "      <td>Orthodox</td>\n",
       "      <td>May 28, 1983</td>\n",
       "    </tr>\n",
       "    <tr>\n",
       "      <th>13</th>\n",
       "      <td>Aaron Simpson</td>\n",
       "      <td>6' 0\"</td>\n",
       "      <td>170 lbs.</td>\n",
       "      <td>73\"</td>\n",
       "      <td>Orthodox</td>\n",
       "      <td>Jul 20, 1974</td>\n",
       "    </tr>\n",
       "    <tr>\n",
       "      <th>17</th>\n",
       "      <td>Abdul Razak Alhassan</td>\n",
       "      <td>5' 10\"</td>\n",
       "      <td>170 lbs.</td>\n",
       "      <td>73\"</td>\n",
       "      <td>Orthodox</td>\n",
       "      <td>Aug 11, 1985</td>\n",
       "    </tr>\n",
       "  </tbody>\n",
       "</table>\n",
       "</div>"
      ],
      "text/plain": [
       "            fighter_name  Height    Weight Reach    Stance           DOB\n",
       "10        Aaron Phillips   5' 9\"  135 lbs.   70\"  Southpaw  Aug 05, 1989\n",
       "11           Aaron Riley   5' 8\"  155 lbs.   69\"  Southpaw  Dec 09, 1980\n",
       "12            Aaron Rosa   6' 4\"  205 lbs.   78\"  Orthodox  May 28, 1983\n",
       "13         Aaron Simpson   6' 0\"  170 lbs.   73\"  Orthodox  Jul 20, 1974\n",
       "17  Abdul Razak Alhassan  5' 10\"  170 lbs.   73\"  Orthodox  Aug 11, 1985"
      ]
     },
     "execution_count": 18,
     "metadata": {},
     "output_type": "execute_result"
    }
   ],
   "source": [
    "data.head()"
   ]
  },
  {
   "cell_type": "code",
   "execution_count": 27,
   "metadata": {},
   "outputs": [
    {
     "data": {
      "text/html": [
       "<div>\n",
       "<style scoped>\n",
       "    .dataframe tbody tr th:only-of-type {\n",
       "        vertical-align: middle;\n",
       "    }\n",
       "\n",
       "    .dataframe tbody tr th {\n",
       "        vertical-align: top;\n",
       "    }\n",
       "\n",
       "    .dataframe thead th {\n",
       "        text-align: right;\n",
       "    }\n",
       "</style>\n",
       "<table border=\"1\" class=\"dataframe\">\n",
       "  <thead>\n",
       "    <tr style=\"text-align: right;\">\n",
       "      <th></th>\n",
       "    </tr>\n",
       "  </thead>\n",
       "  <tbody>\n",
       "  </tbody>\n",
       "</table>\n",
       "</div>"
      ],
      "text/plain": [
       "Empty DataFrame\n",
       "Columns: []\n",
       "Index: []"
      ]
     },
     "execution_count": 27,
     "metadata": {},
     "output_type": "execute_result"
    }
   ],
   "source": [
    "data.corr()"
   ]
  },
  {
   "cell_type": "code",
   "execution_count": 29,
   "metadata": {},
   "outputs": [],
   "source": [
    "data.to_csv('raw_fighter_details_ADEKOGBE_week2.csv')"
   ]
  }
 ],
 "metadata": {
  "kernelspec": {
   "display_name": "Python 3",
   "language": "python",
   "name": "python3"
  },
  "language_info": {
   "codemirror_mode": {
    "name": "ipython",
    "version": 3
   },
   "file_extension": ".py",
   "mimetype": "text/x-python",
   "name": "python",
   "nbconvert_exporter": "python",
   "pygments_lexer": "ipython3",
   "version": "3.7.3"
  }
 },
 "nbformat": 4,
 "nbformat_minor": 2
}
